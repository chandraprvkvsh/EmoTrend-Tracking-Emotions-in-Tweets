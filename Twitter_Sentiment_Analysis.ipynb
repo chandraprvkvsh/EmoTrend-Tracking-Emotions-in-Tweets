{
 "cells": [
  {
   "cell_type": "markdown",
   "metadata": {
    "colab_type": "text",
    "id": "jhDVWvguY2k1"
   },
   "source": [
    "# Fetching Tweets using Tweepy"
   ]
  },
  {
   "cell_type": "code",
   "execution_count": 0,
   "metadata": {
    "colab": {},
    "colab_type": "code",
    "id": "MaxCTu-JY2k7"
   },
   "outputs": [],
   "source": []
  },
  {
   "cell_type": "code",
   "execution_count": 2,
   "metadata": {
    "colab": {
     "base_uri": "https://localhost:8080/",
     "height": 1000
    },
    "colab_type": "code",
    "id": "gE_sA-dMY2lA",
    "outputId": "a240449e-b255-427e-ff8b-2c3b85df3135"
   },
   "outputs": [
    {
     "name": "stdout",
     "output_type": "stream",
     "text": [
      "Requirement already satisfied: tweepy in /usr/local/lib/python3.6/dist-packages (3.6.0)\n",
      "Requirement already satisfied: requests>=2.11.1 in /usr/local/lib/python3.6/dist-packages (from tweepy) (2.21.0)\n",
      "Requirement already satisfied: PySocks>=1.5.7 in /usr/local/lib/python3.6/dist-packages (from tweepy) (1.7.1)\n",
      "Requirement already satisfied: requests-oauthlib>=0.7.0 in /usr/local/lib/python3.6/dist-packages (from tweepy) (1.3.0)\n",
      "Requirement already satisfied: six>=1.10.0 in /usr/local/lib/python3.6/dist-packages (from tweepy) (1.12.0)\n",
      "Requirement already satisfied: idna<2.9,>=2.5 in /usr/local/lib/python3.6/dist-packages (from requests>=2.11.1->tweepy) (2.8)\n",
      "Requirement already satisfied: chardet<3.1.0,>=3.0.2 in /usr/local/lib/python3.6/dist-packages (from requests>=2.11.1->tweepy) (3.0.4)\n",
      "Requirement already satisfied: certifi>=2017.4.17 in /usr/local/lib/python3.6/dist-packages (from requests>=2.11.1->tweepy) (2019.11.28)\n",
      "Requirement already satisfied: urllib3<1.25,>=1.21.1 in /usr/local/lib/python3.6/dist-packages (from requests>=2.11.1->tweepy) (1.24.3)\n",
      "Requirement already satisfied: oauthlib>=3.0.0 in /usr/local/lib/python3.6/dist-packages (from requests-oauthlib>=0.7.0->tweepy) (3.1.0)\n",
      "Requirement already satisfied: wordcloud in /usr/local/lib/python3.6/dist-packages (1.5.0)\n",
      "Requirement already satisfied: numpy>=1.6.1 in /usr/local/lib/python3.6/dist-packages (from wordcloud) (1.17.5)\n",
      "Requirement already satisfied: pillow in /usr/local/lib/python3.6/dist-packages (from wordcloud) (6.2.2)\n",
      "Requirement already satisfied: textblob in /usr/local/lib/python3.6/dist-packages (0.15.3)\n",
      "Requirement already satisfied: nltk>=3.1 in /usr/local/lib/python3.6/dist-packages (from textblob) (3.2.5)\n",
      "Requirement already satisfied: six in /usr/local/lib/python3.6/dist-packages (from nltk>=3.1->textblob) (1.12.0)\n",
      "Requirement already satisfied: nltk in /usr/local/lib/python3.6/dist-packages (3.2.5)\n",
      "Requirement already satisfied: six in /usr/local/lib/python3.6/dist-packages (from nltk) (1.12.0)\n",
      "[nltk_data] Downloading collection 'all'\n",
      "[nltk_data]    | \n",
      "[nltk_data]    | Downloading package abc to /root/nltk_data...\n",
      "[nltk_data]    |   Package abc is already up-to-date!\n",
      "[nltk_data]    | Downloading package alpino to /root/nltk_data...\n",
      "[nltk_data]    |   Package alpino is already up-to-date!\n",
      "[nltk_data]    | Downloading package biocreative_ppi to\n",
      "[nltk_data]    |     /root/nltk_data...\n",
      "[nltk_data]    |   Package biocreative_ppi is already up-to-date!\n",
      "[nltk_data]    | Downloading package brown to /root/nltk_data...\n",
      "[nltk_data]    |   Package brown is already up-to-date!\n",
      "[nltk_data]    | Downloading package brown_tei to /root/nltk_data...\n",
      "[nltk_data]    |   Package brown_tei is already up-to-date!\n",
      "[nltk_data]    | Downloading package cess_cat to /root/nltk_data...\n",
      "[nltk_data]    |   Package cess_cat is already up-to-date!\n",
      "[nltk_data]    | Downloading package cess_esp to /root/nltk_data...\n",
      "[nltk_data]    |   Package cess_esp is already up-to-date!\n",
      "[nltk_data]    | Downloading package chat80 to /root/nltk_data...\n",
      "[nltk_data]    |   Package chat80 is already up-to-date!\n",
      "[nltk_data]    | Downloading package city_database to\n",
      "[nltk_data]    |     /root/nltk_data...\n",
      "[nltk_data]    |   Package city_database is already up-to-date!\n",
      "[nltk_data]    | Downloading package cmudict to /root/nltk_data...\n",
      "[nltk_data]    |   Package cmudict is already up-to-date!\n",
      "[nltk_data]    | Downloading package comparative_sentences to\n",
      "[nltk_data]    |     /root/nltk_data...\n",
      "[nltk_data]    |   Package comparative_sentences is already up-to-\n",
      "[nltk_data]    |       date!\n",
      "[nltk_data]    | Downloading package comtrans to /root/nltk_data...\n",
      "[nltk_data]    |   Package comtrans is already up-to-date!\n",
      "[nltk_data]    | Downloading package conll2000 to /root/nltk_data...\n",
      "[nltk_data]    |   Package conll2000 is already up-to-date!\n",
      "[nltk_data]    | Downloading package conll2002 to /root/nltk_data...\n",
      "[nltk_data]    |   Package conll2002 is already up-to-date!\n",
      "[nltk_data]    | Downloading package conll2007 to /root/nltk_data...\n",
      "[nltk_data]    |   Package conll2007 is already up-to-date!\n",
      "[nltk_data]    | Downloading package crubadan to /root/nltk_data...\n",
      "[nltk_data]    |   Package crubadan is already up-to-date!\n",
      "[nltk_data]    | Downloading package dependency_treebank to\n",
      "[nltk_data]    |     /root/nltk_data...\n",
      "[nltk_data]    |   Package dependency_treebank is already up-to-date!\n",
      "[nltk_data]    | Downloading package dolch to /root/nltk_data...\n",
      "[nltk_data]    |   Package dolch is already up-to-date!\n",
      "[nltk_data]    | Downloading package europarl_raw to\n",
      "[nltk_data]    |     /root/nltk_data...\n",
      "[nltk_data]    |   Package europarl_raw is already up-to-date!\n",
      "[nltk_data]    | Downloading package floresta to /root/nltk_data...\n",
      "[nltk_data]    |   Package floresta is already up-to-date!\n",
      "[nltk_data]    | Downloading package framenet_v15 to\n",
      "[nltk_data]    |     /root/nltk_data...\n",
      "[nltk_data]    |   Package framenet_v15 is already up-to-date!\n",
      "[nltk_data]    | Downloading package framenet_v17 to\n",
      "[nltk_data]    |     /root/nltk_data...\n",
      "[nltk_data]    |   Package framenet_v17 is already up-to-date!\n",
      "[nltk_data]    | Downloading package gazetteers to /root/nltk_data...\n",
      "[nltk_data]    |   Package gazetteers is already up-to-date!\n",
      "[nltk_data]    | Downloading package genesis to /root/nltk_data...\n",
      "[nltk_data]    |   Package genesis is already up-to-date!\n",
      "[nltk_data]    | Downloading package gutenberg to /root/nltk_data...\n",
      "[nltk_data]    |   Package gutenberg is already up-to-date!\n",
      "[nltk_data]    | Downloading package ieer to /root/nltk_data...\n",
      "[nltk_data]    |   Package ieer is already up-to-date!\n",
      "[nltk_data]    | Downloading package inaugural to /root/nltk_data...\n",
      "[nltk_data]    |   Package inaugural is already up-to-date!\n",
      "[nltk_data]    | Downloading package indian to /root/nltk_data...\n",
      "[nltk_data]    |   Package indian is already up-to-date!\n",
      "[nltk_data]    | Downloading package jeita to /root/nltk_data...\n",
      "[nltk_data]    |   Package jeita is already up-to-date!\n",
      "[nltk_data]    | Downloading package kimmo to /root/nltk_data...\n",
      "[nltk_data]    |   Package kimmo is already up-to-date!\n",
      "[nltk_data]    | Downloading package knbc to /root/nltk_data...\n",
      "[nltk_data]    |   Package knbc is already up-to-date!\n",
      "[nltk_data]    | Downloading package lin_thesaurus to\n",
      "[nltk_data]    |     /root/nltk_data...\n",
      "[nltk_data]    |   Package lin_thesaurus is already up-to-date!\n",
      "[nltk_data]    | Downloading package mac_morpho to /root/nltk_data...\n",
      "[nltk_data]    |   Package mac_morpho is already up-to-date!\n",
      "[nltk_data]    | Downloading package machado to /root/nltk_data...\n",
      "[nltk_data]    |   Package machado is already up-to-date!\n",
      "[nltk_data]    | Downloading package masc_tagged to /root/nltk_data...\n",
      "[nltk_data]    |   Package masc_tagged is already up-to-date!\n",
      "[nltk_data]    | Downloading package moses_sample to\n",
      "[nltk_data]    |     /root/nltk_data...\n",
      "[nltk_data]    |   Package moses_sample is already up-to-date!\n",
      "[nltk_data]    | Downloading package movie_reviews to\n",
      "[nltk_data]    |     /root/nltk_data...\n",
      "[nltk_data]    |   Package movie_reviews is already up-to-date!\n",
      "[nltk_data]    | Downloading package names to /root/nltk_data...\n",
      "[nltk_data]    |   Package names is already up-to-date!\n",
      "[nltk_data]    | Downloading package nombank.1.0 to /root/nltk_data...\n",
      "[nltk_data]    |   Package nombank.1.0 is already up-to-date!\n",
      "[nltk_data]    | Downloading package nps_chat to /root/nltk_data...\n",
      "[nltk_data]    |   Package nps_chat is already up-to-date!\n",
      "[nltk_data]    | Downloading package omw to /root/nltk_data...\n",
      "[nltk_data]    |   Package omw is already up-to-date!\n",
      "[nltk_data]    | Downloading package opinion_lexicon to\n",
      "[nltk_data]    |     /root/nltk_data...\n",
      "[nltk_data]    |   Package opinion_lexicon is already up-to-date!\n",
      "[nltk_data]    | Downloading package paradigms to /root/nltk_data...\n",
      "[nltk_data]    |   Package paradigms is already up-to-date!\n",
      "[nltk_data]    | Downloading package pil to /root/nltk_data...\n",
      "[nltk_data]    |   Package pil is already up-to-date!\n",
      "[nltk_data]    | Downloading package pl196x to /root/nltk_data...\n",
      "[nltk_data]    |   Package pl196x is already up-to-date!\n",
      "[nltk_data]    | Downloading package ppattach to /root/nltk_data...\n",
      "[nltk_data]    |   Package ppattach is already up-to-date!\n",
      "[nltk_data]    | Downloading package problem_reports to\n",
      "[nltk_data]    |     /root/nltk_data...\n",
      "[nltk_data]    |   Package problem_reports is already up-to-date!\n",
      "[nltk_data]    | Downloading package propbank to /root/nltk_data...\n",
      "[nltk_data]    |   Package propbank is already up-to-date!\n",
      "[nltk_data]    | Downloading package ptb to /root/nltk_data...\n",
      "[nltk_data]    |   Package ptb is already up-to-date!\n",
      "[nltk_data]    | Downloading package product_reviews_1 to\n",
      "[nltk_data]    |     /root/nltk_data...\n",
      "[nltk_data]    |   Package product_reviews_1 is already up-to-date!\n",
      "[nltk_data]    | Downloading package product_reviews_2 to\n",
      "[nltk_data]    |     /root/nltk_data...\n",
      "[nltk_data]    |   Package product_reviews_2 is already up-to-date!\n",
      "[nltk_data]    | Downloading package pros_cons to /root/nltk_data...\n",
      "[nltk_data]    |   Package pros_cons is already up-to-date!\n",
      "[nltk_data]    | Downloading package qc to /root/nltk_data...\n",
      "[nltk_data]    |   Package qc is already up-to-date!\n",
      "[nltk_data]    | Downloading package reuters to /root/nltk_data...\n",
      "[nltk_data]    |   Package reuters is already up-to-date!\n",
      "[nltk_data]    | Downloading package rte to /root/nltk_data...\n",
      "[nltk_data]    |   Package rte is already up-to-date!\n",
      "[nltk_data]    | Downloading package semcor to /root/nltk_data...\n",
      "[nltk_data]    |   Package semcor is already up-to-date!\n",
      "[nltk_data]    | Downloading package senseval to /root/nltk_data...\n",
      "[nltk_data]    |   Package senseval is already up-to-date!\n",
      "[nltk_data]    | Downloading package sentiwordnet to\n",
      "[nltk_data]    |     /root/nltk_data...\n",
      "[nltk_data]    |   Package sentiwordnet is already up-to-date!\n",
      "[nltk_data]    | Downloading package sentence_polarity to\n",
      "[nltk_data]    |     /root/nltk_data...\n",
      "[nltk_data]    |   Package sentence_polarity is already up-to-date!\n",
      "[nltk_data]    | Downloading package shakespeare to /root/nltk_data...\n",
      "[nltk_data]    |   Package shakespeare is already up-to-date!\n",
      "[nltk_data]    | Downloading package sinica_treebank to\n",
      "[nltk_data]    |     /root/nltk_data...\n",
      "[nltk_data]    |   Package sinica_treebank is already up-to-date!\n",
      "[nltk_data]    | Downloading package smultron to /root/nltk_data...\n",
      "[nltk_data]    |   Package smultron is already up-to-date!\n",
      "[nltk_data]    | Downloading package state_union to /root/nltk_data...\n",
      "[nltk_data]    |   Package state_union is already up-to-date!\n",
      "[nltk_data]    | Downloading package stopwords to /root/nltk_data...\n",
      "[nltk_data]    |   Package stopwords is already up-to-date!\n",
      "[nltk_data]    | Downloading package subjectivity to\n",
      "[nltk_data]    |     /root/nltk_data...\n",
      "[nltk_data]    |   Package subjectivity is already up-to-date!\n",
      "[nltk_data]    | Downloading package swadesh to /root/nltk_data...\n",
      "[nltk_data]    |   Package swadesh is already up-to-date!\n",
      "[nltk_data]    | Downloading package switchboard to /root/nltk_data...\n",
      "[nltk_data]    |   Package switchboard is already up-to-date!\n",
      "[nltk_data]    | Downloading package timit to /root/nltk_data...\n",
      "[nltk_data]    |   Package timit is already up-to-date!\n",
      "[nltk_data]    | Downloading package toolbox to /root/nltk_data...\n",
      "[nltk_data]    |   Package toolbox is already up-to-date!\n",
      "[nltk_data]    | Downloading package treebank to /root/nltk_data...\n",
      "[nltk_data]    |   Package treebank is already up-to-date!\n",
      "[nltk_data]    | Downloading package twitter_samples to\n",
      "[nltk_data]    |     /root/nltk_data...\n",
      "[nltk_data]    |   Package twitter_samples is already up-to-date!\n",
      "[nltk_data]    | Downloading package udhr to /root/nltk_data...\n",
      "[nltk_data]    |   Package udhr is already up-to-date!\n",
      "[nltk_data]    | Downloading package udhr2 to /root/nltk_data...\n",
      "[nltk_data]    |   Package udhr2 is already up-to-date!\n",
      "[nltk_data]    | Downloading package unicode_samples to\n",
      "[nltk_data]    |     /root/nltk_data...\n",
      "[nltk_data]    |   Package unicode_samples is already up-to-date!\n",
      "[nltk_data]    | Downloading package universal_treebanks_v20 to\n",
      "[nltk_data]    |     /root/nltk_data...\n",
      "[nltk_data]    |   Package universal_treebanks_v20 is already up-to-\n",
      "[nltk_data]    |       date!\n",
      "[nltk_data]    | Downloading package verbnet to /root/nltk_data...\n",
      "[nltk_data]    |   Package verbnet is already up-to-date!\n",
      "[nltk_data]    | Downloading package verbnet3 to /root/nltk_data...\n",
      "[nltk_data]    |   Package verbnet3 is already up-to-date!\n",
      "[nltk_data]    | Downloading package webtext to /root/nltk_data...\n",
      "[nltk_data]    |   Package webtext is already up-to-date!\n",
      "[nltk_data]    | Downloading package wordnet to /root/nltk_data...\n",
      "[nltk_data]    |   Package wordnet is already up-to-date!\n",
      "[nltk_data]    | Downloading package wordnet_ic to /root/nltk_data...\n",
      "[nltk_data]    |   Package wordnet_ic is already up-to-date!\n",
      "[nltk_data]    | Downloading package words to /root/nltk_data...\n",
      "[nltk_data]    |   Package words is already up-to-date!\n",
      "[nltk_data]    | Downloading package ycoe to /root/nltk_data...\n",
      "[nltk_data]    |   Package ycoe is already up-to-date!\n",
      "[nltk_data]    | Downloading package rslp to /root/nltk_data...\n",
      "[nltk_data]    |   Package rslp is already up-to-date!\n",
      "[nltk_data]    | Downloading package maxent_treebank_pos_tagger to\n",
      "[nltk_data]    |     /root/nltk_data...\n",
      "[nltk_data]    |   Package maxent_treebank_pos_tagger is already up-\n",
      "[nltk_data]    |       to-date!\n",
      "[nltk_data]    | Downloading package universal_tagset to\n",
      "[nltk_data]    |     /root/nltk_data...\n",
      "[nltk_data]    |   Package universal_tagset is already up-to-date!\n",
      "[nltk_data]    | Downloading package maxent_ne_chunker to\n",
      "[nltk_data]    |     /root/nltk_data...\n",
      "[nltk_data]    |   Package maxent_ne_chunker is already up-to-date!\n",
      "[nltk_data]    | Downloading package punkt to /root/nltk_data...\n",
      "[nltk_data]    |   Package punkt is already up-to-date!\n",
      "[nltk_data]    | Downloading package book_grammars to\n",
      "[nltk_data]    |     /root/nltk_data...\n",
      "[nltk_data]    |   Package book_grammars is already up-to-date!\n",
      "[nltk_data]    | Downloading package sample_grammars to\n",
      "[nltk_data]    |     /root/nltk_data...\n",
      "[nltk_data]    |   Package sample_grammars is already up-to-date!\n",
      "[nltk_data]    | Downloading package spanish_grammars to\n",
      "[nltk_data]    |     /root/nltk_data...\n",
      "[nltk_data]    |   Package spanish_grammars is already up-to-date!\n",
      "[nltk_data]    | Downloading package basque_grammars to\n",
      "[nltk_data]    |     /root/nltk_data...\n",
      "[nltk_data]    |   Package basque_grammars is already up-to-date!\n",
      "[nltk_data]    | Downloading package large_grammars to\n",
      "[nltk_data]    |     /root/nltk_data...\n",
      "[nltk_data]    |   Package large_grammars is already up-to-date!\n",
      "[nltk_data]    | Downloading package tagsets to /root/nltk_data...\n",
      "[nltk_data]    |   Package tagsets is already up-to-date!\n",
      "[nltk_data]    | Downloading package snowball_data to\n",
      "[nltk_data]    |     /root/nltk_data...\n",
      "[nltk_data]    |   Package snowball_data is already up-to-date!\n",
      "[nltk_data]    | Downloading package bllip_wsj_no_aux to\n",
      "[nltk_data]    |     /root/nltk_data...\n",
      "[nltk_data]    |   Package bllip_wsj_no_aux is already up-to-date!\n",
      "[nltk_data]    | Downloading package word2vec_sample to\n",
      "[nltk_data]    |     /root/nltk_data...\n",
      "[nltk_data]    |   Package word2vec_sample is already up-to-date!\n",
      "[nltk_data]    | Downloading package panlex_swadesh to\n",
      "[nltk_data]    |     /root/nltk_data...\n",
      "[nltk_data]    |   Package panlex_swadesh is already up-to-date!\n",
      "[nltk_data]    | Downloading package mte_teip5 to /root/nltk_data...\n",
      "[nltk_data]    |   Package mte_teip5 is already up-to-date!\n",
      "[nltk_data]    | Downloading package averaged_perceptron_tagger to\n",
      "[nltk_data]    |     /root/nltk_data...\n",
      "[nltk_data]    |   Package averaged_perceptron_tagger is already up-\n",
      "[nltk_data]    |       to-date!\n",
      "[nltk_data]    | Downloading package averaged_perceptron_tagger_ru to\n",
      "[nltk_data]    |     /root/nltk_data...\n",
      "[nltk_data]    |   Package averaged_perceptron_tagger_ru is already\n",
      "[nltk_data]    |       up-to-date!\n",
      "[nltk_data]    | Downloading package perluniprops to\n",
      "[nltk_data]    |     /root/nltk_data...\n",
      "[nltk_data]    |   Package perluniprops is already up-to-date!\n",
      "[nltk_data]    | Downloading package nonbreaking_prefixes to\n",
      "[nltk_data]    |     /root/nltk_data...\n",
      "[nltk_data]    |   Package nonbreaking_prefixes is already up-to-date!\n",
      "[nltk_data]    | Downloading package vader_lexicon to\n",
      "[nltk_data]    |     /root/nltk_data...\n",
      "[nltk_data]    |   Package vader_lexicon is already up-to-date!\n",
      "[nltk_data]    | Downloading package porter_test to /root/nltk_data...\n",
      "[nltk_data]    |   Package porter_test is already up-to-date!\n",
      "[nltk_data]    | Downloading package wmt15_eval to /root/nltk_data...\n",
      "[nltk_data]    |   Package wmt15_eval is already up-to-date!\n",
      "[nltk_data]    | Downloading package mwa_ppdb to /root/nltk_data...\n",
      "[nltk_data]    |   Package mwa_ppdb is already up-to-date!\n",
      "[nltk_data]    | \n",
      "[nltk_data]  Done downloading collection all\n"
     ]
    }
   ],
   "source": [
    "!pip install tweepy\n",
    "!pip install wordcloud\n",
    "!pip install textblob\n",
    "!pip install nltk\n",
    "import nltk\n",
    "nltk.download('all')\n",
    "import tweepy\n",
    "\n",
    "# Variables that contains the credentials to access Twitter API\n",
    "ACCESS_TOKEN =#replace with your key \n",
    "ACCESS_SECRET =#replace with your key\n",
    "CONSUMER_KEY =#replace with your key\n",
    "CONSUMER_SECRET =#replace with your key\n",
    "\n",
    "# Setup access to API\n",
    "def connect_to_twitter_OAuth():\n",
    "    auth = tweepy.OAuthHandler(CONSUMER_KEY, CONSUMER_SECRET)\n",
    "    auth.set_access_token(ACCESS_TOKEN, ACCESS_SECRET)\n",
    "\n",
    "    api = tweepy.API(auth)\n",
    "    return api\n",
    "\n",
    "# Create API object\n",
    "api = connect_to_twitter_OAuth()"
   ]
  },
  {
   "cell_type": "code",
   "execution_count": 0,
   "metadata": {
    "colab": {},
    "colab_type": "code",
    "id": "3rKOpBwnY2lE"
   },
   "outputs": [],
   "source": []
  },
  {
   "cell_type": "code",
   "execution_count": 0,
   "metadata": {
    "colab": {},
    "colab_type": "code",
    "id": "THafnnc8Y2lJ"
   },
   "outputs": [],
   "source": []
  },
  {
   "cell_type": "code",
   "execution_count": 3,
   "metadata": {
    "colab": {
     "base_uri": "https://localhost:8080/",
     "height": 1000
    },
    "colab_type": "code",
    "id": "Wmco7VKkY2lR",
    "outputId": "470933a9-d889-4240-e834-4718dc354a41"
   },
   "outputs": [
    {
     "name": "stdout",
     "output_type": "stream",
     "text": [
      "THANK YOU FLORIDA! #KAG2020 https://t.co/mNB4KMEj9u\n",
      "“OMB Official: Ukraine Aid Held Up Because Other Countries Weren't Giving” https://t.co/nYwMq3M5SB\n",
      "https://t.co/1EYKod0tee\n",
      "RT @WhiteHouse: LIVE: President @realDonaldTrump Pardons the National Thanksgiving Turkey https://t.co/UjbVbghSiS\n",
      "...love to have Mike Pompeo, Rick Perry, Mick Mulvaney and many others testify about the phony Impeachment Hoax. It… https://t.co/PQorUuinkw\n",
      "...lawyer has already stated that I did nothing wrong. John Bolton is a patriot and may know that I held back the m… https://t.co/XCVTR2Od2l\n",
      "The D.C. Wolves and Fake News Media are reading far too much into people being forced by Courts to testify before C… https://t.co/8LsXGDsTbH\n",
      "RT @DailyCaller: President @realDonaldTrump signs the Women’s Suffrage Centennial Commemorative Coin Act which will direct the U.S. Treasur…\n",
      "RT @DailyCaller: Adam Schiff Challenger Jennifer Barbosa Attacks Him For Chasing Impeachment While Allegedly Ignoring Homeless People In Ca…\n",
      "RT @DailyCaller: The Tide Is Turning Against Democrats On Impeachment https://t.co/xpUwqz2JP1\n",
      "RT @DailyCaller: Poll: Independents Flip On Impeachment, Now Opposed After First Two Weeks Of Public Hearings. https://t.co/hjwicx0Pys\n",
      "When the Military rips down an old &amp; badly broken Border Wall in an important location, &amp; replaces it with a brand… https://t.co/5UwBsVacdG\n",
      "I will always protect our great warfighters. I’ve got your backs!\n",
      "Great job Heather! https://t.co/8OX8wkug4t\n",
      "RT @HeatherChilders: Is there a 2020 Democrat who can compete on the economy? - University of Maryland business professor @PMorici1 weighs…\n",
      "RT @JennaEllisEsq: As this sham continues, remember this is supposedly an impeachment hearing — not a personnel hearing, not a policy debat…\n",
      "“Poll shows Dems losing interest in Impeachment inquiry all across the board. These Polls are actually devastating… https://t.co/K1b9B05IEY\n",
      "RT @GOPChairwoman: Pelosi herself said impeachment must be “compelling,” “overwhelming,” and \"bipartisan.”\n",
      "\n",
      "After 2 weeks of sham hearings,…\n",
      "RT @GeraldoRivera: As Democrats charge forward on #Impeachment of @realDonaldTrump despite certainty of defeat, don’t let them forget phony…\n",
      "RT @TeamTrump: President @realDonaldTrump will host a Keep America Great rally TOMORROW at 7:00 PM EST at @thebbtcenter in Sunrise, Florida…\n",
      "RT @WhiteHouse: President @realDonaldTrump met with Prime Minister @BoykoBorissov earlier today on measures to strengthen the strategic par…\n",
      "RT @EricTrump: Great job ⁦@realDonaldTrump⁩ and ⁦@LaraLeaTrump⁩! \n",
      "\n",
      "Donald Trump signs animal cruelty bill targeting 'heinous and sadistic'…\n",
      "RT @realDonaldTrump: “DOW, NASDAQ, S&amp;P 500 CLOSE AT RECORD HIGHS” https://t.co/q8IuuuUGjb\n",
      "https://t.co/Rya9MUlX1v\n",
      "“Democrats committed to impeaching Trump for no reason.” Will backfire into big 2020 Victory for Republicans! @IngrahamAngle\n",
      "RT @WhiteHouse: President Trump signed the Women’s Suffrage Centennial Commemorative Coin Act! \n",
      "\n",
      "@USTreasury will issue $1 coins commemorat…\n",
      "RT @WhiteHouse: President @realDonaldTrump just signed the Preventing Animal Cruelty and Torture (PACT) Act into law—which makes it a Feder…\n",
      "“DOW, NASDAQ, S&amp;P 500 CLOSE AT RECORD HIGHS” https://t.co/q8IuuuUGjb\n",
      "RT @WhiteHouse: Congratulations to all of the @NCAA National Champions! 🏆 https://t.co/9OIZQqiT5Z\n",
      "https://t.co/BETsNAWsNs\n",
      "Another new Stock Market Record. Enjoy!\n",
      "“The Democrats are getting hit and slammed on Impeachment. It is getting less and less popular by the day.” @kilmeade @foxandfriends\n",
      "Support for Impeachment is dropping like a rock, down into the 20’s in some Polls. Dems should now get down to work… https://t.co/O9sWK7ibHM\n",
      "“President Trump is facing a process which is unprecedented for its unfairness.” Sam Dewey\n",
      "RT @realDonaldTrump: Agnes, your great boy Ronald is looking down, very proud of you! https://t.co/BHPu6IIdAN\n",
      "RT @KatrinaPierson: “Trump 2020 baby!”\n",
      "\n",
      "@realDonaldTrump will win in 2020, and he’s going to do it with the help of millions of Black voter…\n",
      "RT @WhiteHouse: President @realDonaldTrump welcomed outstanding student athletes and coaches from all over the Nation to the White House fo…\n",
      "RT @GOPChairwoman: “That he is unconventional is not a bad thing for me. Heck, it’s why I voted for him.”\n",
      "\n",
      "Fantastic read from @SalenaZito…\n",
      "....honors that he has earned, including his Trident Pin. Admiral and now Ambassador to Norway Ken Braithwaite will… https://t.co/rM0vnGCs87\n",
      "....contracting procedures were not addressed to my satisfaction. Therefore, Secretary of the Navy Richard Spencer’… https://t.co/wDkQrdlDG5\n",
      "I was not pleased with the way that Navy Seal Eddie Gallagher’s trial was handled by the Navy. He was treated very… https://t.co/bFwiFKQi9e\n",
      "Democrats going back to their Districts for Thanksgiving are getting absolutely hammered by their constituents over… https://t.co/IXzP5VLroK\n",
      "“The whole Russia thing was a Hoax, and the Ukraine thing is a Hoax, and the Democrats are a Joke. This is a disast… https://t.co/DaIU3HxznC\n",
      "The Impeachment Scam is driving Republican Poll Numbers UP, UP, UP! Thank you Shifty.\n",
      "RT @MZHemingway: The first phase of impeachment did not go well for Democrats. It needed to be a time when support for the inquiry and impe…\n",
      "RT @MZHemingway: @VanityFair \"By massive margins, Independents say that the impeachment issue is 'more important to politicians than it is…\n",
      "This is a great and well reseached book on Justice K. The Ruth Marcus book is a badly written &amp; reseached disaster.… https://t.co/vS6EEFdMEj\n",
      "RT @RepWalorski: And yet, one thing remains the same: House Democrats have wanted to impeach the president since day one. These hearings ha…\n",
      "RT @HouseCommerce: As I have said before - no president has leaned in more than @realDonaldTrump on lowering drug costs for the American pe…\n",
      "Witch Hunt! https://t.co/CvZtyHMsGo\n",
      "RT @RoScarborough: Nunes to sue CNN, Daily Beast over ‘demonstrably false’ stories he sought dirt on Biden - https://t.co/MqPwlasYbK - @was…\n",
      "RT @GregGutfeldShow: Adam Schiff takes a Rorschach test. #Gutfeld https://t.co/khtdFVRHpv\n",
      "RT @GregGutfeldShow: Adam Schiff tries stand-up comedy. #Gutfeld https://t.co/8bu4cSHb9q\n",
      "RT @GregGutfeldShow: WATCH: Greg's latest monologue. #Gutfeld https://t.co/3nV60FCQ5g\n",
      "RT @marklevinshow: Here's a preview of tonight's Life, Liberty and Levin on Fox News at 8pm eastern. https://t.co/lhR6Uh8pXt\n",
      "RT @AndrewPollackFL: Michael Bloomberg’s accomplishments:\n",
      "\n",
      "Banning big gulp sodas\n",
      "\n",
      "Being the worst NYC mayor after Bill de Blasio\n",
      "\n",
      "Trashing…\n",
      "RT @AndrewPollackFL: Wow! Thanks everyone for supporting Help Meadow Save the Day! \n",
      "\n",
      "It’s almost in the top 50 sales ranking on Barnes &amp; No…\n",
      "RT @AndrewPollackFL: The California Supreme Court is the only piece of government in the state that has any common sense left.\n",
      "\n",
      "President T…\n",
      "RT @MZHemingway: Oh dear. Hunter Biden-linked company received $130M in special federal loans while Joe Biden was vice president https://t.…\n",
      "RT @WayneDupreeShow: This whole Ukraine thing is about to blow up in Dems face so big time.\n",
      "\n",
      "https://t.co/D668vbxzUA\n",
      "RT @PeteHegseth: Huge CONGRATS to new mom @JedediahBila &amp; hubby Jeremy! Welcome baby Hartley to the @foxandfriends family. So glad all is w…\n",
      "RT @BuckSexton: Simply mind boggling that here we are, heading into year 4 of the Trump presidency, in a time of tremendous American econom…\n",
      "RT @BuckSexton: Russia invaded eastern Ukraine,  picked off Crimea, and shot an airliner out of the sky killing hundreds of civilians *WHIL…\n",
      "RT @DonaldJTrumpJr: For perspective THIS X 1000!!! \n",
      "Wonder why? https://t.co/Juz7piWvCH\n",
      "RT @BuckSexton: Be prepared for bureaucrats at FBI to claim sheer incompetence as their defense to whatever comes out of the Horowitz probe…\n",
      "RT @BuckSexton: People need to stop making Democrats look like a bunch of crazy Left wing extremists by quoting them and sharing their offi…\n",
      "RT @ByronYork: NPR reviews new Glenn Simpson book. Says Steele dossier 'found its way to news organizations.' Why obscure what happened? In…\n",
      "RT @SebGorka: What did Forrest Gump’s mama say about stupid people ? https://t.co/z1OSff5NqH\n",
      "RT @bdomenech: \"By massive margins, Independents say that the impeachment issue is “more important to politicians than it is to me” (62% to…\n",
      "RT @DailyCaller: .@ewarren lies about the fact that she sent her kids to private school. \n",
      "\n",
      "“I read that your children went to private schoo…\n",
      "But I did nothing wrong. Read the Transcripts (2)! https://t.co/Ef9O5kOgrg\n",
      "100% Correct! https://t.co/VJfkmaraGV\n",
      "RT @RepRobertHurt: Great to have my brother @charleshurt join us for @LibertyU Convocation this week.\n",
      "https://t.co/mLM1hGn2gy\n",
      "Agnes, your great boy Ronald is looking down, very proud of you! https://t.co/BHPu6IIdAN\n",
      "RT @RealSaavedra: New RNC ad uses Democrats' own words on impeachment against them https://t.co/GDm8xgJ0wR\n",
      "Exclusive: Elise Stefanik Reflects on Her Two-Week Whirlwind https://t.co/5SownqVBuD\n",
      "RT @townhallcom: This whole thing is tearing our country apart. https://t.co/AW2lWvNRxM\n",
      "The Unspoken Truth: What Impeachment Exposed About Trump and 2020 https://t.co/pYTYBcD55I\n",
      "RT @KatiePavlich: Looking forward to “Adam Schiff tries to act angry” on the @greggutfeld show\n",
      "This is the real story behind the Do Nothing Democrats! https://t.co/4tPTICdSR1\n",
      "RT @LouDobbs: A tremendous week. @POTUS says he ‘wants’ a full senate trial following the dems’ disastrous impeachment hearings. @PressSec…\n",
      "RT @LouDobbs: Case Closed! @SaraCarterDC @CharlesHurt say the radical Dems have no case or evidence to impeach @POTUS. #MAGA #AmericaFirst…\n",
      "Too bad we didn’t have the G-7 here. I offered to pick up the entire cost, would have saved at least $35,000,000 fo… https://t.co/yNA3lYQPmF\n",
      "Polls have now turned very strongly against Impeachment, especially in swing states. 75% to 25%. Thank you!\n",
      "Nancy Pelosi, Adam Schiff, AOC and the rest of the Democrats are not getting important legislation done, hence, the… https://t.co/fMUhL1DArp\n",
      "Navy Seal Eddie Gallagher will be on @foxandfriends this morning at 7:30 A.M. Have no fear, all will end well for everyone!\n",
      "Pushed hard to have Apple build in USA! https://t.co/BRfXBkJdc2\n",
      "https://t.co/XexXL5HYRU\n",
      "https://t.co/x7ATRLwGpY\n",
      "https://t.co/iSzJDM7CZw\n",
      "95% Approval Rate in the Republican Party, a record! Thank you!\n",
      "Thank you Kevin for the nice words! https://t.co/DfY1V38EhD\n",
      "....Sondland said Trump told him. None of this will move the needle for anyone. And now Dems in Swing Districts hea… https://t.co/h5ysRHtCVn\n",
      "....ANY DIRECT EVIDENCE THAT PRESIDENT TRUMP DID ANYTHING IMPEACHABLE. No one heard him order a quid pro quo. No on… https://t.co/05oujkZc08\n",
      "NEW YORK POST EDITORIAL. “Worse Than Pointless. All those hours of televised testimony plainly failed on their anno… https://t.co/1XAuOFHyVk\n",
      "Daniel Cameron, who just won the A.G. race in the Great Commonwealth of Kentucky, is a young and very talented poli… https://t.co/l6Nw61LPHy\n",
      ".....Brennan, too. And the Whistleblower also worked for Susan Rice. It’s an understatement to say that this is a W… https://t.co/Kc4WtfYQbo\n",
      "“The Democrats dirty tricks have started this whole thing. The Whistleblower, the guy who took his case to Schiff’s… https://t.co/ufbUmLQFvs\n",
      "Joe Concha, The Hill: “In Emerson College Poll, Impeachment among independents, 49% Oppose, 34% Support. You see wh… https://t.co/bocPR9Om0g\n",
      "Adam Schiff will be compelled to testify should the Democrats decide, despite the fact that my presidential convers… https://t.co/bD2rqpRbSx\n",
      "“The support for Impeachment is not there. I think the Democrats will have to come up with a new game plan.” @jasoninthehouse @FoxNews\n",
      "RT @ByronYork: Schiff says when Republicans use phrase 'Russia hoax,' they are denying Russian interference. Untrue. Obvious fact: When Rep…\n",
      "RT @RepMarkMeadows: Potentially huge. Stay tuned... \n",
      "\n",
      "“Horowitz reportedly finds evidence FBI lawyer falsified FISA doc”\n",
      "https://t.co/RzSF3…\n",
      "RT @Jim_Jordan: “Jim Jordan says facts are on Trump's side after week of public impeachment hearings”\n",
      "\n",
      "@BretBaier https://t.co/gBPNYvYPjW\n",
      "RT @RepMarkMeadows: Wow - Impeachment way under water with independents. 49% oppose, only 34% support.\n",
      "\n",
      "The American people see through thi…\n",
      "https://t.co/Mn4EJ7Jbh8\n",
      "...House Republicans are showing real LEADERSHIP and prepared to enact bipartisan solutions for drug prices. Do Not… https://t.co/YkzY7kPOKw\n",
      "...Pelosi and her Do Nothing Democrats drug pricing bill doesn’t do the trick. FEWER cures! FEWER treatments! Time… https://t.co/DPhFX0VKoO\n",
      "...While we had the first prescription drug price decrease in 50 years, Americans still pay far too much for drugs… https://t.co/1qy4kNPIg1\n",
      ".@SecAzar and I will soon release a plan to let Florida and other States import prescription drugs that are MUCH CH… https://t.co/KUCvUfA3JU\n",
      "Thank you to @senatemajldr Mitch McConnell and @GOPLeader Kevin McCarthy for their Great Leadership! There has neve… https://t.co/4armKSJjEo\n",
      "RT @realDonaldTrump: SCHIFF'S \"FACT\" WITNESSES! https://t.co/Pab2y1BVoN\n",
      "I will be interviewed on @foxandfriends this morning at 8:00 A.M. I know that there’s not much to talk about, but w… https://t.co/m84uCLYbSw\n",
      "“Former FBI Employee Accused of Altering FISA Documents.” Hello, here we go! @foxandfriends\n",
      "RT @EliseStefanik: We just raised 250k in 15 MINUTES. THANK YOU! help us get to 500k TONIGHT go to https://t.co/LDFwTKSRnY to join the figh…\n",
      "RT @EliseStefanik: Bottom line: Adam Schiff failed to bring ANY evidence for impeaching @realDonaldTrump. WATCH me on @seanhannity tonight👇…\n",
      "RT @EliseStefanik: Today we heard from Amb. Sondland that @realdonaldtrump told him: “No quid pro quo. I want nothing.” \n",
      "\n",
      "No evidence of im…\n",
      "RT @GOPChairwoman: Reminder for Democrats crying crocodile tears about a brief halt in aid:\n",
      "\n",
      "In 2014, Ukraine’s president went before Congr…\n",
      "RT @GOPChairwoman: Public polls are matching what we’ve seen in our internals:\n",
      "\n",
      "@realDonaldTrump’s approval is the highest it’s been since…\n",
      "RT @seanhannity: .@realDonaldTrump: \"It’s a hoax. It’s a disgrace. It’s an embarrassment to our country. Nancy Pelosi has done a terrible j…\n",
      "RT @JesseBWatters: The hoax is OVER. It's done. They tried and failed. They didn't have one witness to testify that President @realdonaldtr…\n",
      "RT @GeraldoRivera: Re #CollusionHoax it’s not @realDonaldTrump denying #Russia interfered w our 2016 election. It’s Democrats &amp; house media…\n",
      "RT @parscale: Adam Schiff is running the Democrat sham impeachment but now it’s time you got your say!\n",
      "\n",
      "BULL-SCHIFF!\n",
      "\n",
      "Get your 100% cotton…\n",
      "RT @TeamTrump: In 2016, President @realDonaldTrump asked African Americans, “What do you have to lose?”\n",
      "\n",
      "In 2020, it is now “imagine all th…\n",
      "RT @GOPChairwoman: House Democrats have been trying to invalidate the will of the American people since Day 1.\n",
      " \n",
      "We won’t let them take awa…\n",
      "RT @GeraldoRivera: And so it begins. If #CNN exclusive is confirmed, big trouble at the #FBI Allegation according to @evanperez their excel…\n",
      "RT @TeamTrump: .@LaraLeaTrump and @parscale bring Team Trump to Oregon and Arizona to rally supporters!\n",
      "\n",
      "Arizona is ready to stay red in 20…\n",
      "https://t.co/h92LyjD0Eh\n",
      "Thank you @EliseStefanik and @SteveScalise, GREAT JOB! https://t.co/K8qQbCAXbj\n",
      "https://t.co/HvYx12NUkS\n",
      "MARK LEVIN ON IMPEACHMENT HYSTERIA! https://t.co/sFT4qGqajO\n",
      "RT @MariaBartiromo: https://t.co/0C9RAE0ALX join me for my exclusive tomorrow w @carterwpage @MorningsMaria @FoxBusiness 6-9am et. Find out…\n",
      "\"SCHIFF'S CHARADE\" @SeanHannity https://t.co/Go2HsiEyTT\n",
      "SCHIFF'S \"FACT\" WITNESSES! https://t.co/Pab2y1BVoN\n",
      "RT @senatemajldr: Every time the Trump administration meets Speaker Pelosi halfway on the USMCA, she tries to move the goalposts. The Speak…\n",
      "RT @GOPLeader: .@RepStefanik just called out Democrats for their lies about Republican support in holding Russia accountable for election m…\n",
      "RT @GOPoversight: The American people expect fairness. @RepAdamSchiff's #impeachmentcircus has been anything but fair.\n",
      "\n",
      "Thankfully, this ci…\n",
      "RT @Jim_Jordan: 13 conversations that Ambassador Taylor remembered.\n",
      "\n",
      "But he didn’t remember Mr. Holmes briefing him about a call that was “…\n",
      "RT @RepDougCollins: When you're trying to overturn 63 million votes and take down a sitting president, you better come up with something mo…\n",
      "RT @GOPoversight: Democrats have brought in numerous witnesses to testify about matters completely unrelated to the heart of their impeachm…\n",
      "RT @RepAndyBiggsAZ: This was an enlightening exchange btw HOLMES &amp; @RepRatcliffe:\n",
      "\n",
      "Holmes could hear the Ukraine portion of the call btw Tr…\n",
      "RT @RepMarkMeadows: A notable theme in these hearings: some career officials seem to act as though their job is to decide America’s foreign…\n",
      "RT @Jim_Jordan: A 40 minute opening statement from a guy who overheard a phone call that was “a couple minutes.”\n",
      "\n",
      "THIS is the Democrats’ la…\n",
      "....They want ZERO transparency, thinking the world will not find out the death and tragedy that the Iranian Regime is causing!\n",
      "Iran has become so unstable that the regime has shut down their entire Internet System so that the Great Iranian pe… https://t.co/I4vU4GBbP3\n",
      ".....President Trump said the Ukraine President should just do the right thing (No Quid Pro Quo). You shouldn’t cha… https://t.co/KYCFRafcXe\n",
      "Ken Starr, Former Independent Counsel: “Does this reach the level of treason, bribery or other high crimes and misd… https://t.co/q8Eq3y6IDs\n",
      "I have been watching people making phone calls my entire life. My hearing is, and has been, great. Never have I bee… https://t.co/VR26t3fTci\n",
      "Read the two Transcripts of Ukrainian calls!\n",
      "RT @realDonaldTrump: The Republican Party, and me, had a GREAT day yesterday with respect to the phony Impeachment Hoax, &amp; yet, when I got…\n",
      "The Navy will NOT be taking away Warfighter and Navy Seal Eddie Gallagher’s Trident Pin. This case was handled very… https://t.co/bnsXBbbApf\n",
      "....”Nothing gives Schiff jurisdiction over Impeachment.”\n",
      "“The new House Resolution gives Adam Schiff (the most dishonest man in politics) the power unilaterally to release… https://t.co/ecrEKSidQl\n",
      ".....But we are winning big, and they will soon be on our turf.\n",
      "Corrupt politician Adam Schiff’s lies are growing by the day. Keep fighting tough, Republicans, you are dealing wit… https://t.co/pApmJBCJtk\n",
      "I never in my wildest dreams thought my name would in any way be associated with the ugly word, Impeachment! The ca… https://t.co/dmAnTrffL1\n",
      "“Freed Taliban hostages arrive in Germany.” @foxandfriends  @FoxNews @OANN  We got them back!\n",
      ".....President before. What they are doing is not legal. But I’m clean, and when I release my financial statement (… https://t.co/cF6G4yPpoe\n",
      "Bob Mueller, after spending two years and 45 million dollars, went over all of my financials, &amp; my taxes, and found… https://t.co/o4PI9n5QCM\n",
      "The Republican Party, and me, had a GREAT day yesterday with respect to the phony Impeachment Hoax, &amp; yet, when I g… https://t.co/gQBg3cjfLJ\n",
      "During my visit yesterday to Austin, Texas, for the startup of the new Mac Pro, &amp; the discussion of a new one $bill… https://t.co/YB27KtIrRL\n",
      "Why do @ShannonBream &amp; @FoxNews waste airtime on Democrat Rep. Eric Swalwell, who recently left the Presidential Pr… https://t.co/plriOIZ2lE\n",
      "https://t.co/osezECwPO1\n",
      "Poll: Trump leads top 2020 Democrats in Wisconsin https://t.co/P7z7Si8I0h.\n",
      "RT @realDonaldTrump: Impeachment Witch Hunt is now OVER! Ambassador Sondland asks U.S. President (me): “What do you want from Ukraine? I ke…\n",
      "RT @realDonaldTrump: ....”I WANT NOTHING! I WANT NOTHING! I WANT NO QUID PRO QUO! TELL PRESIDENT ZELENSKY TO DO THE RIGHT THING!” Later, Am…\n",
      "“All four of Gordon Sondland’s lawyers are Democrat Donors.” @TuckerCarlson  Despite this, big win today for Republicans!\n",
      "Watch @TuckerCarlson, @seanhannity, @IngrahamAngle. Big News! @FoxNews\n",
      "https://t.co/ytr7dRvbUc https://t.co/G6lGfyxSUs\n",
      "If this were a prizefight, they’d stop it!\n",
      "Today I opened a major Apple Manufacturing plant in Texas that will bring high paying jobs back to America. Today N… https://t.co/IMdAKp9o8e\n",
      "RT @GOPLeader: With every question that @RepStefanik asks, Democrats' sham impeachment gets weaker and weaker.\n",
      "\n",
      "Q: \"You testified, 'Preside…\n",
      "RT @GOPoversight: President Obama gave Ukraine blankets. President Trump gave Ukraine missiles. https://t.co/6oebtm3hMf\n",
      "RT @Jim_Jordan: President Trump: “I want NOTHING. I want no quid pro quo. I want Zelensky to do what he ran on.” https://t.co/x9Y3cbz8Kw\n",
      "RT @RepMarkMeadows: Wow.\n",
      "\n",
      "@RepMikeTurner: \"Mr. Sondland, let's be clear: no one on this planet—not Donald Trump, Rudy Guiliani, Mick Mulvan…\n",
      "RT @RepMattGaetz: “All I heard about the call, is that it was a good call.” #impeachmenthearing https://t.co/cRmM4c7IWN\n",
      "RT @GOPLeader: .@Jim_Jordan calls it like it is:\n",
      "\n",
      "The Ukrainians got a call from the President.\n",
      "The Ukrainians got a meeting with the Presi…\n",
      "RT @RepAndyBiggsAZ: 🚨🚨🚨 STORY OF THE SONDLAND HEARING 🚨🚨🚨\n",
      "\n",
      "Courtesy of @RepMikeTurner ➡️\n",
      "\n",
      "Q: No one else on this planet told you that Donal…\n",
      "I WANT NOTHING! https://t.co/KKUfwSIRAi\n",
      "....”I WANT NOTHING! I WANT NOTHING! I WANT NO QUID PRO QUO! TELL PRESIDENT ZELENSKY TO DO THE RIGHT THING!” Later,… https://t.co/ILD8Ns1XGm\n",
      "Impeachment Witch Hunt is now OVER! Ambassador Sondland asks U.S. President (me): “What do you want from Ukraine? I… https://t.co/m2H5hHC4ok\n",
      "RT @WhiteHouse: President @realDonaldTrump delivers a statement on the sham impeachment process: https://t.co/XBoUNfRV4a\n",
      "We join families of Kevin King &amp; Tim Weeks in celebrating their release from Taliban captivity. Thanks to President… https://t.co/suyld231na\n",
      "https://t.co/HbgEgZsPZ9\n",
      "RT @RNCResearch: Sondland agrees the president never told him “any preconditions for anything”\n",
      "https://t.co/LUTtELrmZX https://t.co/6ebGGBb…\n",
      "RT @BlazeTV: Sondland testifies he asked @realDonaldTrump, \"What do you want [from Ukraine]?\"\n",
      "\n",
      "Trump reportedly responded: \"I want nothing,…\n",
      "RT @SenateGOP: read the transcript. https://t.co/MKzkki4MFX\n",
      "RT @GOPLeader: Case closed ⇨ Ambassador Sondland just testified under oath that he NEVER heard the president say there were conditions on a…\n",
      "RT @SteveScalise: 🚨 BREAKING → Ambassador Sondland: “I don’t recall President Trump ever talking to me about any security assistance. Ever.…\n",
      "RT @RepMarkMeadows: What this \"bombshell\" hearing is amounting to: \n",
      "\n",
      "- Another witness who never heard anything from the President\n",
      "\n",
      "- Reach…\n",
      "RT @SteveScalise: Q: Did @realDonaldTrump ever tell you personally about any pre-conditions for anything?\n",
      "\n",
      "Sondland: No.\n",
      "\n",
      "Q: Any pre-condit…\n",
      "Nancy Pelosi will go down as the least productive Speaker of the House in history. She is dominated by AOC Plus 3 a… https://t.co/SXyUXqY4Qx\n",
      "“White House Confidence Grows As Hearings Wear On.” @WashTimes  This is just an attempted takedown of the Republica… https://t.co/QEPCCoVifo\n",
      "The three year Hoax continues! https://t.co/Yht2KQb5aW\n",
      "True. Great job @RepMikeTurner! https://t.co/T0AdyNLuVb\n",
      "Read the transcripts! https://t.co/gQxYzjWehV\n",
      "RT @dcexaminer: Rep. @EliseStefanik: \"No Quid Pro Quo?\"\n",
      "\n",
      "Morrison: \"Correct.\" \n",
      "\n",
      "\"No Bribery?\"\n",
      "\n",
      "\"Correct.\"\n",
      "\n",
      "\"No Extortion?\"\n",
      "\n",
      "\"Correct.\"\n",
      "\n",
      "Ste…\n",
      "Thank you Tennessee! https://t.co/MYP1FaJhUx\n",
      "Congressman Van Drew (D-NJ): We’ve spent millions of Dollars, in my opinion, tons of money, tons of time, tons of h… https://t.co/cFwanfkSK2\n",
      "RT @RepAndyBiggsAZ: .@RepRatcliffe shatters the myths created by the \"whistleblower\" ➡️\n",
      "\n",
      "- no violation of law or executive order\n",
      "- no ment…\n"
     ]
    },
    {
     "data": {
      "text/plain": [
       "dict_keys(['created_at', 'id', 'id_str', 'text', 'truncated', 'entities', 'extended_entities', 'source', 'in_reply_to_status_id', 'in_reply_to_status_id_str', 'in_reply_to_user_id', 'in_reply_to_user_id_str', 'in_reply_to_screen_name', 'user', 'geo', 'coordinates', 'place', 'contributors', 'is_quote_status', 'retweet_count', 'favorite_count', 'favorited', 'retweeted', 'possibly_sensitive', 'lang'])"
      ]
     },
     "execution_count": 3,
     "metadata": {
      "tags": []
     },
     "output_type": "execute_result"
    }
   ],
   "source": [
    "# tweets from a specific user\n",
    "trump_tweets = api.user_timeline('@realDonaldTrump',count=200, page=10)\n",
    "for tweet in trump_tweets:\n",
    "    print(tweet.text)\n",
    "\n",
    "status = trump_tweets[0]\n",
    "status._json.keys()"
   ]
  },
  {
   "cell_type": "code",
   "execution_count": 0,
   "metadata": {
    "colab": {},
    "colab_type": "code",
    "id": "EKXitXfcY2lW"
   },
   "outputs": [],
   "source": [
    "import pandas as pd\n",
    "# fuction to extract data from tweet object\n",
    "def extract_tweet_attributes(tweet_object):\n",
    "    # create empty list\n",
    "    tweet_list =[]\n",
    "    # loop through tweet objects\n",
    "    for tweet in tweet_object:\n",
    "        tweet_id = tweet.id # unique integer identifier for tweet\n",
    "        text = tweet.text # utf-8 text of tweet\n",
    "        favorite_count = tweet.favorite_count\n",
    "        retweet_count = tweet.retweet_count\n",
    "        tweet_location = tweet.user.location #location of the user's tweet\n",
    "        tweet_coordinates = tweet.coordinates #Geo coordinates of tweet where available\n",
    "        created_at = tweet.created_at # utc time tweet created\n",
    "        source = tweet.source # utility used to post tweet\n",
    "        reply_to_status = tweet.in_reply_to_status_id # if reply int of orginal tweet id\n",
    "        reply_to_user = tweet.in_reply_to_screen_name # if reply original tweetes screenname\n",
    "        retweets = tweet.retweet_count # number of times this tweet retweeted\n",
    "        favorites = tweet.favorite_count # number of time this tweet liked\n",
    "        # append attributes to list\n",
    "        tweet_list.append({'tweet_id':tweet_id, \n",
    "                          'text':text, \n",
    "                          'tweet_location':tweet_location, \n",
    "                          'tweet_coordinates':tweet_coordinates, \n",
    "                          'favorite_count':favorite_count,\n",
    "                          'retweet_count':retweet_count,\n",
    "                          'created_at':created_at, \n",
    "                          'source':source, \n",
    "                          'reply_to_status':reply_to_status, \n",
    "                          'reply_to_user':reply_to_user,\n",
    "                          'retweets':retweets,\n",
    "                          'favorites':favorites})\n",
    "    # create dataframe   \n",
    "    df = pd.DataFrame(tweet_list, columns=['tweet_id',\n",
    "                                           'text',\n",
    "                                           'tweet_location',\n",
    "                                           'tweet_coordinates',\n",
    "                                           'favorite_count',\n",
    "                                           'retweet_count',\n",
    "                                           'created_at',\n",
    "                                           'source',\n",
    "                                           'reply_to_status',\n",
    "                                           'reply_to_user',\n",
    "                                           'retweets',\n",
    "                                           'favorites'])\n",
    "    return df\n",
    "\n",
    "\n",
    "df = extract_tweet_attributes(trump_tweets)"
   ]
  },
  {
   "cell_type": "code",
   "execution_count": 5,
   "metadata": {
    "colab": {
     "base_uri": "https://localhost:8080/",
     "height": 779
    },
    "colab_type": "code",
    "id": "fxUWpFdXY2la",
    "outputId": "d6a989bb-e757-4bdf-d782-807c01059676"
   },
   "outputs": [
    {
     "data": {
      "text/html": [
       "<div>\n",
       "<style scoped>\n",
       "    .dataframe tbody tr th:only-of-type {\n",
       "        vertical-align: middle;\n",
       "    }\n",
       "\n",
       "    .dataframe tbody tr th {\n",
       "        vertical-align: top;\n",
       "    }\n",
       "\n",
       "    .dataframe thead th {\n",
       "        text-align: right;\n",
       "    }\n",
       "</style>\n",
       "<table border=\"1\" class=\"dataframe\">\n",
       "  <thead>\n",
       "    <tr style=\"text-align: right;\">\n",
       "      <th></th>\n",
       "      <th>tweet_id</th>\n",
       "      <th>text</th>\n",
       "      <th>tweet_location</th>\n",
       "      <th>tweet_coordinates</th>\n",
       "      <th>favorite_count</th>\n",
       "      <th>retweet_count</th>\n",
       "      <th>created_at</th>\n",
       "      <th>source</th>\n",
       "      <th>reply_to_status</th>\n",
       "      <th>reply_to_user</th>\n",
       "      <th>retweets</th>\n",
       "      <th>favorites</th>\n",
       "    </tr>\n",
       "  </thead>\n",
       "  <tbody>\n",
       "    <tr>\n",
       "      <th>0</th>\n",
       "      <td>1199525639046471681</td>\n",
       "      <td>THANK YOU FLORIDA! #KAG2020 https://t.co/mNB4K...</td>\n",
       "      <td>Washington, DC</td>\n",
       "      <td>None</td>\n",
       "      <td>90171</td>\n",
       "      <td>20381</td>\n",
       "      <td>2019-11-27 03:09:33</td>\n",
       "      <td>Twitter for iPhone</td>\n",
       "      <td>NaN</td>\n",
       "      <td>None</td>\n",
       "      <td>20381</td>\n",
       "      <td>90171</td>\n",
       "    </tr>\n",
       "    <tr>\n",
       "      <th>1</th>\n",
       "      <td>1199520955753734144</td>\n",
       "      <td>“OMB Official: Ukraine Aid Held Up Because Oth...</td>\n",
       "      <td>Washington, DC</td>\n",
       "      <td>None</td>\n",
       "      <td>59048</td>\n",
       "      <td>17810</td>\n",
       "      <td>2019-11-27 02:50:56</td>\n",
       "      <td>Twitter for iPhone</td>\n",
       "      <td>NaN</td>\n",
       "      <td>None</td>\n",
       "      <td>17810</td>\n",
       "      <td>59048</td>\n",
       "    </tr>\n",
       "    <tr>\n",
       "      <th>2</th>\n",
       "      <td>1199439757400395776</td>\n",
       "      <td>https://t.co/1EYKod0tee</td>\n",
       "      <td>Washington, DC</td>\n",
       "      <td>None</td>\n",
       "      <td>77269</td>\n",
       "      <td>17967</td>\n",
       "      <td>2019-11-26 21:28:17</td>\n",
       "      <td>Twitter for iPhone</td>\n",
       "      <td>NaN</td>\n",
       "      <td>None</td>\n",
       "      <td>17967</td>\n",
       "      <td>77269</td>\n",
       "    </tr>\n",
       "    <tr>\n",
       "      <th>3</th>\n",
       "      <td>1199418046579970048</td>\n",
       "      <td>RT @WhiteHouse: LIVE: President @realDonaldTru...</td>\n",
       "      <td>Washington, DC</td>\n",
       "      <td>None</td>\n",
       "      <td>0</td>\n",
       "      <td>10011</td>\n",
       "      <td>2019-11-26 20:02:01</td>\n",
       "      <td>Twitter for iPhone</td>\n",
       "      <td>NaN</td>\n",
       "      <td>None</td>\n",
       "      <td>10011</td>\n",
       "      <td>0</td>\n",
       "    </tr>\n",
       "    <tr>\n",
       "      <th>4</th>\n",
       "      <td>1199352977934487553</td>\n",
       "      <td>...love to have Mike Pompeo, Rick Perry, Mick ...</td>\n",
       "      <td>Washington, DC</td>\n",
       "      <td>None</td>\n",
       "      <td>67434</td>\n",
       "      <td>16351</td>\n",
       "      <td>2019-11-26 15:43:27</td>\n",
       "      <td>Twitter for iPhone</td>\n",
       "      <td>1.199353e+18</td>\n",
       "      <td>realDonaldTrump</td>\n",
       "      <td>16351</td>\n",
       "      <td>67434</td>\n",
       "    </tr>\n",
       "    <tr>\n",
       "      <th>...</th>\n",
       "      <td>...</td>\n",
       "      <td>...</td>\n",
       "      <td>...</td>\n",
       "      <td>...</td>\n",
       "      <td>...</td>\n",
       "      <td>...</td>\n",
       "      <td>...</td>\n",
       "      <td>...</td>\n",
       "      <td>...</td>\n",
       "      <td>...</td>\n",
       "      <td>...</td>\n",
       "      <td>...</td>\n",
       "    </tr>\n",
       "    <tr>\n",
       "      <th>195</th>\n",
       "      <td>1197128156341248001</td>\n",
       "      <td>Read the transcripts! https://t.co/gQxYzjWehV</td>\n",
       "      <td>Washington, DC</td>\n",
       "      <td>None</td>\n",
       "      <td>43546</td>\n",
       "      <td>11977</td>\n",
       "      <td>2019-11-20 12:22:48</td>\n",
       "      <td>Twitter for iPhone</td>\n",
       "      <td>NaN</td>\n",
       "      <td>None</td>\n",
       "      <td>11977</td>\n",
       "      <td>43546</td>\n",
       "    </tr>\n",
       "    <tr>\n",
       "      <th>196</th>\n",
       "      <td>1197127753180622848</td>\n",
       "      <td>RT @dcexaminer: Rep. @EliseStefanik: \"No Quid ...</td>\n",
       "      <td>Washington, DC</td>\n",
       "      <td>None</td>\n",
       "      <td>0</td>\n",
       "      <td>11964</td>\n",
       "      <td>2019-11-20 12:21:12</td>\n",
       "      <td>Twitter for iPhone</td>\n",
       "      <td>NaN</td>\n",
       "      <td>None</td>\n",
       "      <td>11964</td>\n",
       "      <td>0</td>\n",
       "    </tr>\n",
       "    <tr>\n",
       "      <th>197</th>\n",
       "      <td>1197014949341646848</td>\n",
       "      <td>Thank you Tennessee! https://t.co/MYP1FaJhUx</td>\n",
       "      <td>Washington, DC</td>\n",
       "      <td>None</td>\n",
       "      <td>60821</td>\n",
       "      <td>16053</td>\n",
       "      <td>2019-11-20 04:52:58</td>\n",
       "      <td>Twitter for iPhone</td>\n",
       "      <td>NaN</td>\n",
       "      <td>None</td>\n",
       "      <td>16053</td>\n",
       "      <td>60821</td>\n",
       "    </tr>\n",
       "    <tr>\n",
       "      <th>198</th>\n",
       "      <td>1196977794183499776</td>\n",
       "      <td>Congressman Van Drew (D-NJ): We’ve spent milli...</td>\n",
       "      <td>Washington, DC</td>\n",
       "      <td>None</td>\n",
       "      <td>80649</td>\n",
       "      <td>19651</td>\n",
       "      <td>2019-11-20 02:25:19</td>\n",
       "      <td>Twitter for iPhone</td>\n",
       "      <td>NaN</td>\n",
       "      <td>None</td>\n",
       "      <td>19651</td>\n",
       "      <td>80649</td>\n",
       "    </tr>\n",
       "    <tr>\n",
       "      <th>199</th>\n",
       "      <td>1196972166207737856</td>\n",
       "      <td>RT @RepAndyBiggsAZ: .@RepRatcliffe shatters th...</td>\n",
       "      <td>Washington, DC</td>\n",
       "      <td>None</td>\n",
       "      <td>0</td>\n",
       "      <td>12729</td>\n",
       "      <td>2019-11-20 02:02:57</td>\n",
       "      <td>Twitter for iPhone</td>\n",
       "      <td>NaN</td>\n",
       "      <td>None</td>\n",
       "      <td>12729</td>\n",
       "      <td>0</td>\n",
       "    </tr>\n",
       "  </tbody>\n",
       "</table>\n",
       "<p>200 rows × 12 columns</p>\n",
       "</div>"
      ],
      "text/plain": [
       "                tweet_id  ... favorites\n",
       "0    1199525639046471681  ...     90171\n",
       "1    1199520955753734144  ...     59048\n",
       "2    1199439757400395776  ...     77269\n",
       "3    1199418046579970048  ...         0\n",
       "4    1199352977934487553  ...     67434\n",
       "..                   ...  ...       ...\n",
       "195  1197128156341248001  ...     43546\n",
       "196  1197127753180622848  ...         0\n",
       "197  1197014949341646848  ...     60821\n",
       "198  1196977794183499776  ...     80649\n",
       "199  1196972166207737856  ...         0\n",
       "\n",
       "[200 rows x 12 columns]"
      ]
     },
     "execution_count": 5,
     "metadata": {
      "tags": []
     },
     "output_type": "execute_result"
    }
   ],
   "source": [
    "df"
   ]
  },
  {
   "cell_type": "markdown",
   "metadata": {
    "colab_type": "text",
    "id": "1Xbq8EXnY2le"
   },
   "source": [
    "### Word Cloud of tweets"
   ]
  },
  {
   "cell_type": "code",
   "execution_count": 6,
   "metadata": {
    "colab": {
     "base_uri": "https://localhost:8080/",
     "height": 418
    },
    "colab_type": "code",
    "id": "FbZqp8j2Y2lf",
    "outputId": "a4d5af52-9ebf-42dc-d6fb-725204ec510d"
   },
   "outputs": [
    {
     "data": {
      "image/png": "[encoded data removed]",
      "text/plain": [
       "<Figure size 864x864 with 1 Axes>"
      ]
     },
     "metadata": {
      "tags": []
     },
     "output_type": "display_data"
    }
   ],
   "source": [
    "from wordcloud import WordCloud, STOPWORDS\n",
    "import matplotlib.pyplot as plt\n",
    "stopwords = set(STOPWORDS)\n",
    "\n",
    "def show_wordcloud(data, title = None):\n",
    "    wordcloud = WordCloud(\n",
    "        background_color='white',\n",
    "        stopwords=stopwords,\n",
    "        max_words=500,\n",
    "        max_font_size=30, \n",
    "        scale=3,\n",
    "        random_state=1 # chosen at random by flipping a coin; it was heads\n",
    "    ).generate(str(data))\n",
    "\n",
    "    fig = plt.figure(1, figsize=(12, 12))\n",
    "    plt.axis('off')\n",
    "    if title: \n",
    "        fig.suptitle(title, fontsize=20)\n",
    "        fig.subplots_adjust(top=2.3)\n",
    "\n",
    "    plt.imshow(wordcloud)\n",
    "    plt.show()\n",
    "\n",
    "show_wordcloud(df['text'], 'Word cloud of Trump tweets')"
   ]
  },
  {
   "cell_type": "markdown",
   "metadata": {
    "colab_type": "text",
    "id": "t6lPFvhaY2lk"
   },
   "source": [
    "### Add columns of User handles and Hashtags"
   ]
  },
  {
   "cell_type": "code",
   "execution_count": 7,
   "metadata": {
    "colab": {
     "base_uri": "https://localhost:8080/",
     "height": 779
    },
    "colab_type": "code",
    "id": "4tyC2um3Y2ll",
    "outputId": "a27abb8d-8959-4f47-ad22-447f1e72ccb6"
   },
   "outputs": [
    {
     "data": {
      "text/html": [
       "<div>\n",
       "<style scoped>\n",
       "    .dataframe tbody tr th:only-of-type {\n",
       "        vertical-align: middle;\n",
       "    }\n",
       "\n",
       "    .dataframe tbody tr th {\n",
       "        vertical-align: top;\n",
       "    }\n",
       "\n",
       "    .dataframe thead th {\n",
       "        text-align: right;\n",
       "    }\n",
       "</style>\n",
       "<table border=\"1\" class=\"dataframe\">\n",
       "  <thead>\n",
       "    <tr style=\"text-align: right;\">\n",
       "      <th></th>\n",
       "      <th>tweet_id</th>\n",
       "      <th>text</th>\n",
       "      <th>tweet_location</th>\n",
       "      <th>tweet_coordinates</th>\n",
       "      <th>favorite_count</th>\n",
       "      <th>retweet_count</th>\n",
       "      <th>created_at</th>\n",
       "      <th>source</th>\n",
       "      <th>reply_to_status</th>\n",
       "      <th>reply_to_user</th>\n",
       "      <th>retweets</th>\n",
       "      <th>favorites</th>\n",
       "      <th>twitterhandles</th>\n",
       "      <th>hashtags</th>\n",
       "    </tr>\n",
       "  </thead>\n",
       "  <tbody>\n",
       "    <tr>\n",
       "      <th>0</th>\n",
       "      <td>1199525639046471681</td>\n",
       "      <td>THANK YOU FLORIDA! #KAG2020 https://t.co/mNB4K...</td>\n",
       "      <td>Washington, DC</td>\n",
       "      <td>None</td>\n",
       "      <td>90171</td>\n",
       "      <td>20381</td>\n",
       "      <td>2019-11-27 03:09:33</td>\n",
       "      <td>Twitter for iPhone</td>\n",
       "      <td>NaN</td>\n",
       "      <td>None</td>\n",
       "      <td>20381</td>\n",
       "      <td>90171</td>\n",
       "      <td></td>\n",
       "      <td>KAG2020</td>\n",
       "    </tr>\n",
       "    <tr>\n",
       "      <th>1</th>\n",
       "      <td>1199520955753734144</td>\n",
       "      <td>“OMB Official: Ukraine Aid Held Up Because Oth...</td>\n",
       "      <td>Washington, DC</td>\n",
       "      <td>None</td>\n",
       "      <td>59048</td>\n",
       "      <td>17810</td>\n",
       "      <td>2019-11-27 02:50:56</td>\n",
       "      <td>Twitter for iPhone</td>\n",
       "      <td>NaN</td>\n",
       "      <td>None</td>\n",
       "      <td>17810</td>\n",
       "      <td>59048</td>\n",
       "      <td></td>\n",
       "      <td></td>\n",
       "    </tr>\n",
       "    <tr>\n",
       "      <th>2</th>\n",
       "      <td>1199439757400395776</td>\n",
       "      <td>https://t.co/1EYKod0tee</td>\n",
       "      <td>Washington, DC</td>\n",
       "      <td>None</td>\n",
       "      <td>77269</td>\n",
       "      <td>17967</td>\n",
       "      <td>2019-11-26 21:28:17</td>\n",
       "      <td>Twitter for iPhone</td>\n",
       "      <td>NaN</td>\n",
       "      <td>None</td>\n",
       "      <td>17967</td>\n",
       "      <td>77269</td>\n",
       "      <td></td>\n",
       "      <td></td>\n",
       "    </tr>\n",
       "    <tr>\n",
       "      <th>3</th>\n",
       "      <td>1199418046579970048</td>\n",
       "      <td>RT @WhiteHouse: LIVE: President @realDonaldTru...</td>\n",
       "      <td>Washington, DC</td>\n",
       "      <td>None</td>\n",
       "      <td>0</td>\n",
       "      <td>10011</td>\n",
       "      <td>2019-11-26 20:02:01</td>\n",
       "      <td>Twitter for iPhone</td>\n",
       "      <td>NaN</td>\n",
       "      <td>None</td>\n",
       "      <td>10011</td>\n",
       "      <td>0</td>\n",
       "      <td>WhiteHouserealDonaldTrump</td>\n",
       "      <td></td>\n",
       "    </tr>\n",
       "    <tr>\n",
       "      <th>4</th>\n",
       "      <td>1199352977934487553</td>\n",
       "      <td>...love to have Mike Pompeo, Rick Perry, Mick ...</td>\n",
       "      <td>Washington, DC</td>\n",
       "      <td>None</td>\n",
       "      <td>67434</td>\n",
       "      <td>16351</td>\n",
       "      <td>2019-11-26 15:43:27</td>\n",
       "      <td>Twitter for iPhone</td>\n",
       "      <td>1.199353e+18</td>\n",
       "      <td>realDonaldTrump</td>\n",
       "      <td>16351</td>\n",
       "      <td>67434</td>\n",
       "      <td></td>\n",
       "      <td></td>\n",
       "    </tr>\n",
       "    <tr>\n",
       "      <th>...</th>\n",
       "      <td>...</td>\n",
       "      <td>...</td>\n",
       "      <td>...</td>\n",
       "      <td>...</td>\n",
       "      <td>...</td>\n",
       "      <td>...</td>\n",
       "      <td>...</td>\n",
       "      <td>...</td>\n",
       "      <td>...</td>\n",
       "      <td>...</td>\n",
       "      <td>...</td>\n",
       "      <td>...</td>\n",
       "      <td>...</td>\n",
       "      <td>...</td>\n",
       "    </tr>\n",
       "    <tr>\n",
       "      <th>195</th>\n",
       "      <td>1197128156341248001</td>\n",
       "      <td>Read the transcripts! https://t.co/gQxYzjWehV</td>\n",
       "      <td>Washington, DC</td>\n",
       "      <td>None</td>\n",
       "      <td>43546</td>\n",
       "      <td>11977</td>\n",
       "      <td>2019-11-20 12:22:48</td>\n",
       "      <td>Twitter for iPhone</td>\n",
       "      <td>NaN</td>\n",
       "      <td>None</td>\n",
       "      <td>11977</td>\n",
       "      <td>43546</td>\n",
       "      <td></td>\n",
       "      <td></td>\n",
       "    </tr>\n",
       "    <tr>\n",
       "      <th>196</th>\n",
       "      <td>1197127753180622848</td>\n",
       "      <td>RT @dcexaminer: Rep. @EliseStefanik: \"No Quid ...</td>\n",
       "      <td>Washington, DC</td>\n",
       "      <td>None</td>\n",
       "      <td>0</td>\n",
       "      <td>11964</td>\n",
       "      <td>2019-11-20 12:21:12</td>\n",
       "      <td>Twitter for iPhone</td>\n",
       "      <td>NaN</td>\n",
       "      <td>None</td>\n",
       "      <td>11964</td>\n",
       "      <td>0</td>\n",
       "      <td>dcexaminerEliseStefanik</td>\n",
       "      <td></td>\n",
       "    </tr>\n",
       "    <tr>\n",
       "      <th>197</th>\n",
       "      <td>1197014949341646848</td>\n",
       "      <td>Thank you Tennessee! https://t.co/MYP1FaJhUx</td>\n",
       "      <td>Washington, DC</td>\n",
       "      <td>None</td>\n",
       "      <td>60821</td>\n",
       "      <td>16053</td>\n",
       "      <td>2019-11-20 04:52:58</td>\n",
       "      <td>Twitter for iPhone</td>\n",
       "      <td>NaN</td>\n",
       "      <td>None</td>\n",
       "      <td>16053</td>\n",
       "      <td>60821</td>\n",
       "      <td></td>\n",
       "      <td></td>\n",
       "    </tr>\n",
       "    <tr>\n",
       "      <th>198</th>\n",
       "      <td>1196977794183499776</td>\n",
       "      <td>Congressman Van Drew (D-NJ): We’ve spent milli...</td>\n",
       "      <td>Washington, DC</td>\n",
       "      <td>None</td>\n",
       "      <td>80649</td>\n",
       "      <td>19651</td>\n",
       "      <td>2019-11-20 02:25:19</td>\n",
       "      <td>Twitter for iPhone</td>\n",
       "      <td>NaN</td>\n",
       "      <td>None</td>\n",
       "      <td>19651</td>\n",
       "      <td>80649</td>\n",
       "      <td></td>\n",
       "      <td></td>\n",
       "    </tr>\n",
       "    <tr>\n",
       "      <th>199</th>\n",
       "      <td>1196972166207737856</td>\n",
       "      <td>RT @RepAndyBiggsAZ: .@RepRatcliffe shatters th...</td>\n",
       "      <td>Washington, DC</td>\n",
       "      <td>None</td>\n",
       "      <td>0</td>\n",
       "      <td>12729</td>\n",
       "      <td>2019-11-20 02:02:57</td>\n",
       "      <td>Twitter for iPhone</td>\n",
       "      <td>NaN</td>\n",
       "      <td>None</td>\n",
       "      <td>12729</td>\n",
       "      <td>0</td>\n",
       "      <td>RepAndyBiggsAZRepRatcliffe</td>\n",
       "      <td></td>\n",
       "    </tr>\n",
       "  </tbody>\n",
       "</table>\n",
       "<p>200 rows × 14 columns</p>\n",
       "</div>"
      ],
      "text/plain": [
       "                tweet_id  ... hashtags\n",
       "0    1199525639046471681  ...  KAG2020\n",
       "1    1199520955753734144  ...         \n",
       "2    1199439757400395776  ...         \n",
       "3    1199418046579970048  ...         \n",
       "4    1199352977934487553  ...         \n",
       "..                   ...  ...      ...\n",
       "195  1197128156341248001  ...         \n",
       "196  1197127753180622848  ...         \n",
       "197  1197014949341646848  ...         \n",
       "198  1196977794183499776  ...         \n",
       "199  1196972166207737856  ...         \n",
       "\n",
       "[200 rows x 14 columns]"
      ]
     },
     "execution_count": 7,
     "metadata": {
      "tags": []
     },
     "output_type": "execute_result"
    }
   ],
   "source": [
    "import re\n",
    "def find_twitterhandles(strtweet):\n",
    "    x = re.findall(r\"@(\\w+)\", strtweet)\n",
    "    x = ''.join(x)\n",
    "    return x \n",
    "\n",
    "def find_hashtags(strtweet):\n",
    "    y = re.findall(r\"#(\\w+)\", strtweet)\n",
    "    y = ''.join(y)\n",
    "    return y\n",
    "\n",
    "df['twitterhandles'] = df['text'].apply(lambda x:find_twitterhandles(x))\n",
    "df['hashtags'] = df['text'].apply(lambda x:find_hashtags(x))\n",
    "df.head(200)"
   ]
  },
  {
   "cell_type": "code",
   "execution_count": 8,
   "metadata": {
    "colab": {
     "base_uri": "https://localhost:8080/",
     "height": 366
    },
    "colab_type": "code",
    "id": "cxVSR9LyY2lq",
    "outputId": "420d85bf-6dae-490d-8575-da38fb585f84"
   },
   "outputs": [
    {
     "data": {
      "image/png": "[encoded data removed]",
      "text/plain": [
       "<Figure size 864x864 with 1 Axes>"
      ]
     },
     "metadata": {
      "tags": []
     },
     "output_type": "display_data"
    }
   ],
   "source": [
    "show_wordcloud(df['twitterhandles'])"
   ]
  },
  {
   "cell_type": "code",
   "execution_count": 9,
   "metadata": {
    "colab": {
     "base_uri": "https://localhost:8080/",
     "height": 221
    },
    "colab_type": "code",
    "id": "11sC5cqMY2lu",
    "outputId": "881702d8-2183-4c9f-a97a-7a8c416079c0"
   },
   "outputs": [
    {
     "data": {
      "text/plain": [
       "                              86\n",
       "realDonaldTrump                6\n",
       "RepMarkMeadows                 4\n",
       "WhiteHouserealDonaldTrump      4\n",
       "BuckSexton                     4\n",
       "                              ..\n",
       "GOPLeaderJim_Jordan            1\n",
       "parscale                       1\n",
       "HeatherChildersPMorici1        1\n",
       "DailyCallerrealDonaldTrump     1\n",
       "GeraldoRiveraevanperez         1\n",
       "Name: twitterhandles, Length: 83, dtype: int64"
      ]
     },
     "execution_count": 9,
     "metadata": {
      "tags": []
     },
     "output_type": "execute_result"
    }
   ],
   "source": [
    "df['twitterhandles'].value_counts()"
   ]
  },
  {
   "cell_type": "code",
   "execution_count": 10,
   "metadata": {
    "colab": {
     "base_uri": "https://localhost:8080/",
     "height": 532
    },
    "colab_type": "code",
    "id": "pYD-eSE8Y2ly",
    "outputId": "2c6bbfc3-0869-4ea0-c8d1-a62f6e0e5a0f"
   },
   "outputs": [
    {
     "data": {
      "text/plain": [
       "<matplotlib.axes._subplots.AxesSubplot at 0x7f88626c97b8>"
      ]
     },
     "execution_count": 10,
     "metadata": {
      "tags": []
     },
     "output_type": "execute_result"
    },
    {
     "data": {
      "image/png": "[encoded data removed]",
      "text/plain": [
       "<Figure size 432x288 with 1 Axes>"
      ]
     },
     "metadata": {
      "tags": []
     },
     "output_type": "display_data"
    }
   ],
   "source": [
    "import matplotlib.pyplot as plt\n",
    "\n",
    "tweets_by_lang = df['twitterhandles'].value_counts()\n",
    "\n",
    "fig, ax = plt.subplots()\n",
    "ax.tick_params(axis='x', labelsize=15)\n",
    "ax.tick_params(axis='y', labelsize=10)\n",
    "ax.set_xlabel('Twitter handles', fontsize=15)\n",
    "ax.set_ylabel('Number of tweets' , fontsize=15)\n",
    "ax.set_title('Tweets to users', fontsize=15, fontweight='bold')\n",
    "tweets_by_lang[:5].plot(ax=ax, kind='bar', color='red')"
   ]
  },
  {
   "cell_type": "markdown",
   "metadata": {
    "colab_type": "text",
    "id": "uijTsLr0Y2l1"
   },
   "source": [
    "# Removing user handle "
   ]
  },
  {
   "cell_type": "code",
   "execution_count": 11,
   "metadata": {
    "colab": {
     "base_uri": "https://localhost:8080/",
     "height": 221
    },
    "colab_type": "code",
    "id": "jKgCtBEdY2l2",
    "outputId": "1401fe1f-ad0e-44dd-89dc-554e1ad24714"
   },
   "outputs": [
    {
     "data": {
      "text/plain": [
       "0      THANK YOU FLORIDA! #KAG2020 https://t.co/mNB4K...\n",
       "1      “OMB Official: Ukraine Aid Held Up Because Oth...\n",
       "2                                https://t.co/1EYKod0tee\n",
       "3       : LIVE: President  Pardons the National Thank...\n",
       "4      ...love to have Mike Pompeo, Rick Perry, Mick ...\n",
       "                             ...                        \n",
       "195        Read the transcripts! https://t.co/gQxYzjWehV\n",
       "196     : Rep. : \"No Quid Pro Quo?\"\\n\\nMorrison: \"Cor...\n",
       "197         Thank you Tennessee! https://t.co/MYP1FaJhUx\n",
       "198    Congressman Van Drew (D-NJ): We’ve spent milli...\n",
       "199     : . shatters the myths created by the \"whistl...\n",
       "Name: tidy_tweet, Length: 200, dtype: object"
      ]
     },
     "execution_count": 11,
     "metadata": {
      "tags": []
     },
     "output_type": "execute_result"
    }
   ],
   "source": [
    "# removing user handle \n",
    "df['tidy_tweet'] = df['text'].replace(to_replace ='(@[\\w]+)', value ='', regex = True)\n",
    "df['tidy_tweet'] = df['tidy_tweet'].replace(to_replace =('RT'), value ='',regex = True) \n",
    "df['tidy_tweet']"
   ]
  },
  {
   "cell_type": "markdown",
   "metadata": {
    "colab_type": "text",
    "id": "CWlJMzhHY2l-"
   },
   "source": [
    "# Remove any links from the tweet"
   ]
  },
  {
   "cell_type": "code",
   "execution_count": 12,
   "metadata": {
    "colab": {
     "base_uri": "https://localhost:8080/",
     "height": 221
    },
    "colab_type": "code",
    "id": "ygu2WD5ZY2mA",
    "outputId": "e1dd1720-45d6-4523-d8f9-6693b1db14a0"
   },
   "outputs": [
    {
     "data": {
      "text/plain": [
       "0                          THANK YOU FLORIDA! #KAG2020 \u0000\n",
       "1      “OMB Official: Ukraine Aid Held Up Because Oth...\n",
       "2                                                      \u0000\n",
       "3       : LIVE: President  Pardons the National Thank...\n",
       "4      ...love to have Mike Pompeo, Rick Perry, Mick ...\n",
       "                             ...                        \n",
       "195                              Read the transcripts! \u0000\n",
       "196     : Rep. : \"No Quid Pro Quo?\"\\n\\nMorrison: \"Cor...\n",
       "197                               Thank you Tennessee! \u0000\n",
       "198    Congressman Van Drew (D-NJ): We’ve spent milli...\n",
       "199     : . shatters the myths created by the \"whistl...\n",
       "Name: tidy_tweet, Length: 200, dtype: object"
      ]
     },
     "execution_count": 12,
     "metadata": {
      "tags": []
     },
     "output_type": "execute_result"
    }
   ],
   "source": [
    "#remove any links from the tweet: Links not required for performing sentiment analysis.\n",
    "df['tidy_tweet'] = df['tidy_tweet'].str.replace('((www\\.[\\s]+)|(https?://[^\\s]+))','\\0',regex=True)\n",
    "df['tidy_tweet']"
   ]
  },
  {
   "cell_type": "markdown",
   "metadata": {
    "colab_type": "text",
    "id": "fAr1a6wvY2mF"
   },
   "source": [
    "# Remove special characters, numbers, punctuations:"
   ]
  },
  {
   "cell_type": "code",
   "execution_count": 0,
   "metadata": {
    "colab": {},
    "colab_type": "code",
    "id": "8psMXNjMY2mG"
   },
   "outputs": [],
   "source": [
    "# remove special characters, numbers, punctuations: None of them would add any value to the sentiment score.\n",
    "df['tidy_tweet'] = df['tidy_tweet'].str.replace(\"[^a-zA-Z]+\", \" \")"
   ]
  },
  {
   "cell_type": "code",
   "execution_count": 14,
   "metadata": {
    "colab": {
     "base_uri": "https://localhost:8080/",
     "height": 221
    },
    "colab_type": "code",
    "id": "_JB_BgOCY2mL",
    "outputId": "2b5e354a-4fd7-4398-e32d-1cf049e0c698"
   },
   "outputs": [
    {
     "data": {
      "text/plain": [
       "0                                 THANK YOU FLORIDA KAG \n",
       "1       OMB Official Ukraine Aid Held Up Because Othe...\n",
       "2                                                       \n",
       "3       LIVE President Pardons the National Thanksgiv...\n",
       "4       love to have Mike Pompeo Rick Perry Mick Mulv...\n",
       "                             ...                        \n",
       "195                                Read the transcripts \n",
       "196     Rep No Quid Pro Quo Morrison Correct No Bribe...\n",
       "197                                 Thank you Tennessee \n",
       "198    Congressman Van Drew D NJ We ve spent millions...\n",
       "199     shatters the myths created by the whistleblow...\n",
       "Name: tidy_tweet, Length: 200, dtype: object"
      ]
     },
     "execution_count": 14,
     "metadata": {
      "tags": []
     },
     "output_type": "execute_result"
    }
   ],
   "source": [
    "df['tidy_tweet']"
   ]
  },
  {
   "cell_type": "markdown",
   "metadata": {
    "colab_type": "text",
    "id": "z54O49BgY2mO"
   },
   "source": [
    "# Tokenising and removing Stop Words"
   ]
  },
  {
   "cell_type": "code",
   "execution_count": 15,
   "metadata": {
    "colab": {
     "base_uri": "https://localhost:8080/",
     "height": 51
    },
    "colab_type": "code",
    "id": "cUd32OolY2mP",
    "outputId": "90d3b020-aece-4dd8-a694-33ae4454b9bd"
   },
   "outputs": [
    {
     "name": "stdout",
     "output_type": "stream",
     "text": [
      "[nltk_data] Downloading package stopwords to /root/nltk_data...\n",
      "[nltk_data]   Package stopwords is already up-to-date!\n"
     ]
    }
   ],
   "source": [
    "df[\"tidy_tweet\"] = [i.lower() for i in df[\"tidy_tweet\"]]\n",
    "df[\"tidy_tweet\"] = [i.split() for i in df[\"tidy_tweet\"]]\n",
    "\n",
    "import nltk\n",
    "nltk.download('stopwords')\n",
    "from nltk.corpus import stopwords\n",
    "\n",
    "stop = stopwords.words('english')"
   ]
  },
  {
   "cell_type": "code",
   "execution_count": 16,
   "metadata": {
    "colab": {
     "base_uri": "https://localhost:8080/",
     "height": 221
    },
    "colab_type": "code",
    "id": "XkbKpUUCY2mS",
    "outputId": "c3219c98-b0ed-4d30-b3b1-1fcfdc769130"
   },
   "outputs": [
    {
     "data": {
      "text/plain": [
       "0                                  [thank, florida, kag]\n",
       "1      [omb, official, ukraine, aid, held, countries,...\n",
       "2                                                     []\n",
       "3      [live, president, pardons, national, thanksgiv...\n",
       "4      [love, mike, pompeo, rick, perry, mick, mulvan...\n",
       "                             ...                        \n",
       "195                                  [read, transcripts]\n",
       "196    [rep, quid, pro, quo, morrison, correct, bribe...\n",
       "197                                   [thank, tennessee]\n",
       "198    [congressman, van, drew, nj, spent, millions, ...\n",
       "199    [shatters, myths, created, whistleblower, viol...\n",
       "Name: tidy_tweet, Length: 200, dtype: object"
      ]
     },
     "execution_count": 16,
     "metadata": {
      "tags": []
     },
     "output_type": "execute_result"
    }
   ],
   "source": [
    "df['tidy_tweet']=df['tidy_tweet'].apply(lambda x: [item for item in x if item not in stop])\n",
    "df['tidy_tweet']"
   ]
  },
  {
   "cell_type": "code",
   "execution_count": 17,
   "metadata": {
    "colab": {
     "base_uri": "https://localhost:8080/",
     "height": 289
    },
    "colab_type": "code",
    "id": "OqWDBUblY2mW",
    "outputId": "f0aa58ac-08ab-42c2-cd2a-dac544c511be"
   },
   "outputs": [
    {
     "data": {
      "text/plain": [
       "['This',\n",
       " 'is',\n",
       " 'a',\n",
       " 'cooool',\n",
       " '#dummysmiley',\n",
       " ':',\n",
       " ':-)',\n",
       " ':-P',\n",
       " '<3',\n",
       " 'and',\n",
       " 'some',\n",
       " 'arrows',\n",
       " '<',\n",
       " '>',\n",
       " '->',\n",
       " '<--']"
      ]
     },
     "execution_count": 17,
     "metadata": {
      "tags": []
     },
     "output_type": "execute_result"
    }
   ],
   "source": [
    "#Alternate Method: Using TweetTokenizer to tokenize the tweet\n",
    "from nltk.tokenize import TweetTokenizer\n",
    "\n",
    "tt = TweetTokenizer()\n",
    "s0 = \"This is a cooool #dummysmiley: :-) :-P <3 and some arrows < > -> <--\"\n",
    "tt.tokenize(s0)"
   ]
  },
  {
   "cell_type": "code",
   "execution_count": 0,
   "metadata": {
    "colab": {},
    "colab_type": "code",
    "id": "JPDAX-FOY2mZ"
   },
   "outputs": [],
   "source": [
    "def rejoin_words(row):\n",
    "    my_list = row['tidy_tweet']\n",
    "    joined_words = ( \" \".join(my_list))\n",
    "    return joined_words\n",
    "\n",
    "df['tidy_tweet'] = df.apply(rejoin_words, axis=1)"
   ]
  },
  {
   "cell_type": "code",
   "execution_count": 19,
   "metadata": {
    "colab": {
     "base_uri": "https://localhost:8080/",
     "height": 221
    },
    "colab_type": "code",
    "id": "3pM1hpCZY2md",
    "outputId": "5dac698f-1999-4940-bc09-d96171f9c7ae"
   },
   "outputs": [
    {
     "data": {
      "text/plain": [
       "0                                      thank florida kag\n",
       "1         omb official ukraine aid held countries giving\n",
       "2                                                       \n",
       "3      live president pardons national thanksgiving t...\n",
       "4      love mike pompeo rick perry mick mulvaney many...\n",
       "                             ...                        \n",
       "195                                     read transcripts\n",
       "196    rep quid pro quo morrison correct bribery corr...\n",
       "197                                      thank tennessee\n",
       "198    congressman van drew nj spent millions dollars...\n",
       "199    shatters myths created whistleblower violation...\n",
       "Name: tidy_tweet, Length: 200, dtype: object"
      ]
     },
     "execution_count": 19,
     "metadata": {
      "tags": []
     },
     "output_type": "execute_result"
    }
   ],
   "source": [
    "df['tidy_tweet']"
   ]
  },
  {
   "cell_type": "markdown",
   "metadata": {
    "colab_type": "text",
    "id": "SbQdJBc4Y2mj"
   },
   "source": [
    "# Applying Lemmatization"
   ]
  },
  {
   "cell_type": "code",
   "execution_count": 20,
   "metadata": {
    "colab": {
     "base_uri": "https://localhost:8080/",
     "height": 51
    },
    "colab_type": "code",
    "id": "grdv6GZ1Y2mk",
    "outputId": "34edc7e1-b533-4a17-eb17-a321d8484851"
   },
   "outputs": [
    {
     "name": "stdout",
     "output_type": "stream",
     "text": [
      "[nltk_data] Downloading package wordnet to /root/nltk_data...\n",
      "[nltk_data]   Package wordnet is already up-to-date!\n"
     ]
    }
   ],
   "source": [
    "import nltk\n",
    "nltk.download('wordnet')\n",
    "w_tokenizer = nltk.tokenize.WhitespaceTokenizer()\n",
    "lemmatizer = nltk.stem.WordNetLemmatizer()\n",
    "\n",
    "def lemmatize_text(text):\n",
    "    return [lemmatizer.lemmatize(w) for w in w_tokenizer.tokenize(text)]\n",
    "\n",
    "df['tidy_tweet'] = df['tidy_tweet'].apply(lemmatize_text)"
   ]
  },
  {
   "cell_type": "code",
   "execution_count": 21,
   "metadata": {
    "colab": {
     "base_uri": "https://localhost:8080/",
     "height": 221
    },
    "colab_type": "code",
    "id": "fChotIA1Y2mn",
    "outputId": "58cd1751-6eac-4aa2-ecd8-1df7558c0529"
   },
   "outputs": [
    {
     "data": {
      "text/plain": [
       "0                                  [thank, florida, kag]\n",
       "1      [omb, official, ukraine, aid, held, country, g...\n",
       "2                                                     []\n",
       "3      [live, president, pardon, national, thanksgivi...\n",
       "4      [love, mike, pompeo, rick, perry, mick, mulvan...\n",
       "                             ...                        \n",
       "195                                   [read, transcript]\n",
       "196    [rep, quid, pro, quo, morrison, correct, bribe...\n",
       "197                                   [thank, tennessee]\n",
       "198    [congressman, van, drew, nj, spent, million, d...\n",
       "199    [shatters, myth, created, whistleblower, viola...\n",
       "Name: tidy_tweet, Length: 200, dtype: object"
      ]
     },
     "execution_count": 21,
     "metadata": {
      "tags": []
     },
     "output_type": "execute_result"
    }
   ],
   "source": [
    "df['tidy_tweet']"
   ]
  },
  {
   "cell_type": "code",
   "execution_count": 0,
   "metadata": {
    "colab": {},
    "colab_type": "code",
    "id": "lkL2vMBaY2mr"
   },
   "outputs": [],
   "source": [
    "def rejoin_words(row):\n",
    "    my_list = row['tidy_tweet']\n",
    "    joined_words = ( \" \".join(my_list))\n",
    "    return joined_words\n",
    "\n",
    "df['tidy_tweet'] = df.apply(rejoin_words, axis=1)"
   ]
  },
  {
   "cell_type": "code",
   "execution_count": 23,
   "metadata": {
    "colab": {
     "base_uri": "https://localhost:8080/",
     "height": 221
    },
    "colab_type": "code",
    "id": "Y99hE4o4Y2mv",
    "outputId": "bdd88468-7c73-44e2-c532-adb557e61a30"
   },
   "outputs": [
    {
     "data": {
      "text/plain": [
       "0                                      thank florida kag\n",
       "1           omb official ukraine aid held country giving\n",
       "2                                                       \n",
       "3      live president pardon national thanksgiving tu...\n",
       "4      love mike pompeo rick perry mick mulvaney many...\n",
       "                             ...                        \n",
       "195                                      read transcript\n",
       "196    rep quid pro quo morrison correct bribery corr...\n",
       "197                                      thank tennessee\n",
       "198    congressman van drew nj spent million dollar o...\n",
       "199    shatters myth created whistleblower violation ...\n",
       "Name: tidy_tweet, Length: 200, dtype: object"
      ]
     },
     "execution_count": 23,
     "metadata": {
      "tags": []
     },
     "output_type": "execute_result"
    }
   ],
   "source": [
    "df['tidy_tweet']"
   ]
  },
  {
   "cell_type": "code",
   "execution_count": 24,
   "metadata": {
    "colab": {
     "base_uri": "https://localhost:8080/",
     "height": 289
    },
    "colab_type": "code",
    "id": "A4d1y9mmY2my",
    "outputId": "aee2d146-06e4-4f70-9245-6e9f839d2355"
   },
   "outputs": [
    {
     "data": {
      "text/plain": [
       "tweet_id               0\n",
       "text                   0\n",
       "tweet_location         0\n",
       "tweet_coordinates    200\n",
       "favorite_count         0\n",
       "retweet_count          0\n",
       "created_at             0\n",
       "source                 0\n",
       "reply_to_status      184\n",
       "reply_to_user        184\n",
       "retweets               0\n",
       "favorites              0\n",
       "twitterhandles         0\n",
       "hashtags               0\n",
       "tidy_tweet             0\n",
       "dtype: int64"
      ]
     },
     "execution_count": 24,
     "metadata": {
      "tags": []
     },
     "output_type": "execute_result"
    }
   ],
   "source": [
    "df.isnull().sum()"
   ]
  },
  {
   "cell_type": "markdown",
   "metadata": {
    "colab_type": "text",
    "id": "D-6Yv0FsY2m2"
   },
   "source": [
    "# Check the Sentiment using TextBlob"
   ]
  },
  {
   "cell_type": "code",
   "execution_count": 25,
   "metadata": {
    "colab": {
     "base_uri": "https://localhost:8080/",
     "height": 419
    },
    "colab_type": "code",
    "id": "zuYR02iGY2m3",
    "outputId": "d9fa0a00-748b-4a8c-ec8e-8a7ea3ef7a19"
   },
   "outputs": [
    {
     "data": {
      "text/html": [
       "<div>\n",
       "<style scoped>\n",
       "    .dataframe tbody tr th:only-of-type {\n",
       "        vertical-align: middle;\n",
       "    }\n",
       "\n",
       "    .dataframe tbody tr th {\n",
       "        vertical-align: top;\n",
       "    }\n",
       "\n",
       "    .dataframe thead th {\n",
       "        text-align: right;\n",
       "    }\n",
       "</style>\n",
       "<table border=\"1\" class=\"dataframe\">\n",
       "  <thead>\n",
       "    <tr style=\"text-align: right;\">\n",
       "      <th></th>\n",
       "      <th>text</th>\n",
       "      <th>polarity</th>\n",
       "      <th>subjectivity</th>\n",
       "    </tr>\n",
       "  </thead>\n",
       "  <tbody>\n",
       "    <tr>\n",
       "      <th>0</th>\n",
       "      <td>THANK YOU FLORIDA! #KAG2020 https://t.co/mNB4K...</td>\n",
       "      <td>0.000000</td>\n",
       "      <td>0.00</td>\n",
       "    </tr>\n",
       "    <tr>\n",
       "      <th>1</th>\n",
       "      <td>“OMB Official: Ukraine Aid Held Up Because Oth...</td>\n",
       "      <td>0.000000</td>\n",
       "      <td>0.00</td>\n",
       "    </tr>\n",
       "    <tr>\n",
       "      <th>2</th>\n",
       "      <td>https://t.co/1EYKod0tee</td>\n",
       "      <td>0.000000</td>\n",
       "      <td>0.00</td>\n",
       "    </tr>\n",
       "    <tr>\n",
       "      <th>3</th>\n",
       "      <td>RT @WhiteHouse: LIVE: President @realDonaldTru...</td>\n",
       "      <td>0.136364</td>\n",
       "      <td>0.50</td>\n",
       "    </tr>\n",
       "    <tr>\n",
       "      <th>4</th>\n",
       "      <td>...love to have Mike Pompeo, Rick Perry, Mick ...</td>\n",
       "      <td>0.500000</td>\n",
       "      <td>0.55</td>\n",
       "    </tr>\n",
       "    <tr>\n",
       "      <th>...</th>\n",
       "      <td>...</td>\n",
       "      <td>...</td>\n",
       "      <td>...</td>\n",
       "    </tr>\n",
       "    <tr>\n",
       "      <th>195</th>\n",
       "      <td>Read the transcripts! https://t.co/gQxYzjWehV</td>\n",
       "      <td>0.000000</td>\n",
       "      <td>0.00</td>\n",
       "    </tr>\n",
       "    <tr>\n",
       "      <th>196</th>\n",
       "      <td>RT @dcexaminer: Rep. @EliseStefanik: \"No Quid ...</td>\n",
       "      <td>0.000000</td>\n",
       "      <td>0.00</td>\n",
       "    </tr>\n",
       "    <tr>\n",
       "      <th>197</th>\n",
       "      <td>Thank you Tennessee! https://t.co/MYP1FaJhUx</td>\n",
       "      <td>0.000000</td>\n",
       "      <td>0.00</td>\n",
       "    </tr>\n",
       "    <tr>\n",
       "      <th>198</th>\n",
       "      <td>Congressman Van Drew (D-NJ): We’ve spent milli...</td>\n",
       "      <td>-0.100000</td>\n",
       "      <td>0.10</td>\n",
       "    </tr>\n",
       "    <tr>\n",
       "      <th>199</th>\n",
       "      <td>RT @RepAndyBiggsAZ: .@RepRatcliffe shatters th...</td>\n",
       "      <td>0.000000</td>\n",
       "      <td>0.00</td>\n",
       "    </tr>\n",
       "  </tbody>\n",
       "</table>\n",
       "<p>200 rows × 3 columns</p>\n",
       "</div>"
      ],
      "text/plain": [
       "                                                  text  polarity  subjectivity\n",
       "0    THANK YOU FLORIDA! #KAG2020 https://t.co/mNB4K...  0.000000          0.00\n",
       "1    “OMB Official: Ukraine Aid Held Up Because Oth...  0.000000          0.00\n",
       "2                              https://t.co/1EYKod0tee  0.000000          0.00\n",
       "3    RT @WhiteHouse: LIVE: President @realDonaldTru...  0.136364          0.50\n",
       "4    ...love to have Mike Pompeo, Rick Perry, Mick ...  0.500000          0.55\n",
       "..                                                 ...       ...           ...\n",
       "195      Read the transcripts! https://t.co/gQxYzjWehV  0.000000          0.00\n",
       "196  RT @dcexaminer: Rep. @EliseStefanik: \"No Quid ...  0.000000          0.00\n",
       "197       Thank you Tennessee! https://t.co/MYP1FaJhUx  0.000000          0.00\n",
       "198  Congressman Van Drew (D-NJ): We’ve spent milli... -0.100000          0.10\n",
       "199  RT @RepAndyBiggsAZ: .@RepRatcliffe shatters th...  0.000000          0.00\n",
       "\n",
       "[200 rows x 3 columns]"
      ]
     },
     "execution_count": 25,
     "metadata": {
      "tags": []
     },
     "output_type": "execute_result"
    }
   ],
   "source": [
    "#!pip install textblob\n",
    "from textblob import TextBlob\n",
    "df[['polarity', 'subjectivity']] = df['tidy_tweet'].apply(lambda Text: pd.Series(TextBlob(Text).sentiment))\n",
    "df[['text','polarity', 'subjectivity']]"
   ]
  },
  {
   "cell_type": "code",
   "execution_count": 26,
   "metadata": {
    "colab": {
     "base_uri": "https://localhost:8080/",
     "height": 34
    },
    "colab_type": "code",
    "id": "8Nfloq1xY2m-",
    "outputId": "6f87a387-cea9-478e-b908-e3cac0cd3b14"
   },
   "outputs": [
    {
     "data": {
      "text/plain": [
       "-1.0"
      ]
     },
     "execution_count": 26,
     "metadata": {
      "tags": []
     },
     "output_type": "execute_result"
    }
   ],
   "source": [
    "TextBlob('It was a worst movie i ever saw.').sentiment[0]"
   ]
  },
  {
   "cell_type": "code",
   "execution_count": 27,
   "metadata": {
    "colab": {
     "base_uri": "https://localhost:8080/",
     "height": 34
    },
    "colab_type": "code",
    "id": "4QlSV3jBY2nC",
    "outputId": "b15971be-59b5-472b-f536-9c77aab8f3e0"
   },
   "outputs": [
    {
     "data": {
      "text/plain": [
       "TextBlob(\"They had a great time in the jungle.\")"
      ]
     },
     "execution_count": 27,
     "metadata": {
      "tags": []
     },
     "output_type": "execute_result"
    }
   ],
   "source": [
    "TextBlob('They had a gret time in the jungl.').correct()"
   ]
  },
  {
   "cell_type": "code",
   "execution_count": 28,
   "metadata": {
    "colab": {
     "base_uri": "https://localhost:8080/",
     "height": 34
    },
    "colab_type": "code",
    "id": "B4aBR-MpY2nG",
    "outputId": "d78daf11-2bfd-4685-ceea-97add43ca1ff"
   },
   "outputs": [
    {
     "data": {
      "text/plain": [
       "WordList(['bombay'])"
      ]
     },
     "execution_count": 28,
     "metadata": {
      "tags": []
     },
     "output_type": "execute_result"
    }
   ],
   "source": [
    "\n",
    "TextBlob('The train to Bombay was 30 min late').noun_phrases"
   ]
  },
  {
   "cell_type": "code",
   "execution_count": 0,
   "metadata": {
    "colab": {},
    "colab_type": "code",
    "id": "C7PLHETMY2nK"
   },
   "outputs": [],
   "source": []
  },
  {
   "cell_type": "code",
   "execution_count": 29,
   "metadata": {
    "colab": {
     "base_uri": "https://localhost:8080/",
     "height": 34
    },
    "colab_type": "code",
    "id": "VZYiJwgPY2nN",
    "outputId": "3a6902a3-a23d-419e-db69-d873e315e65b"
   },
   "outputs": [
    {
     "data": {
      "text/plain": [
       "'The D.C. Wolves and Fake News Media are reading far too much into people being forced by Courts to testify before C… https://t.co/8LsXGDsTbH'"
      ]
     },
     "execution_count": 29,
     "metadata": {
      "tags": []
     },
     "output_type": "execute_result"
    }
   ],
   "source": [
    "df['text'][6]"
   ]
  },
  {
   "cell_type": "code",
   "execution_count": 0,
   "metadata": {
    "colab": {},
    "colab_type": "code",
    "id": "ZR5OPN2iY2nQ"
   },
   "outputs": [],
   "source": [
    "def sent_word(polarity_score):\n",
    "    if polarity_score>0:\n",
    "        x = 'pos'\n",
    "    elif polarity_score<0:\n",
    "        x = 'neg'\n",
    "    elif polarity_score==0:\n",
    "        x = 'neutral'\n",
    "    else:\n",
    "        print('provide polarity score.')\n",
    "    return x"
   ]
  },
  {
   "cell_type": "code",
   "execution_count": 31,
   "metadata": {
    "colab": {
     "base_uri": "https://localhost:8080/",
     "height": 613
    },
    "colab_type": "code",
    "id": "xK4VJT2qY2nW",
    "outputId": "50351606-1432-4be1-e2f4-680d61248ea0"
   },
   "outputs": [
    {
     "data": {
      "text/plain": [
       "<matplotlib.axes._subplots.AxesSubplot at 0x7f885cce58d0>"
      ]
     },
     "execution_count": 31,
     "metadata": {
      "tags": []
     },
     "output_type": "execute_result"
    },
    {
     "data": {
      "image/png": "[encoded data removed]",
      "text/plain": [
       "<Figure size 432x288 with 1 Axes>"
      ]
     },
     "metadata": {
      "tags": []
     },
     "output_type": "display_data"
    }
   ],
   "source": [
    "df['sentiment_word'] = df['polarity'].apply(lambda x: sent_word(x))\n",
    "df.groupby(['sentiment_word','twitterhandles']).hashtags.count().plot.bar()\n"
   ]
  },
  {
   "cell_type": "code",
   "execution_count": 32,
   "metadata": {
    "colab": {
     "base_uri": "https://localhost:8080/",
     "height": 308
    },
    "colab_type": "code",
    "id": "vVlqfC5SY2na",
    "outputId": "e65101ca-8fa6-4818-960b-74c83fd13c04"
   },
   "outputs": [
    {
     "data": {
      "text/plain": [
       "<matplotlib.axes._subplots.AxesSubplot at 0x7f885cd33dd8>"
      ]
     },
     "execution_count": 32,
     "metadata": {
      "tags": []
     },
     "output_type": "execute_result"
    },
    {
     "data": {
      "image/png": "[encoded data removed]",
      "text/plain": [
       "<Figure size 432x288 with 1 Axes>"
      ]
     },
     "metadata": {
      "tags": []
     },
     "output_type": "display_data"
    }
   ],
   "source": [
    "sent_score = df['sentiment_word'].value_counts()\n",
    "\n",
    "fig, ax = plt.subplots()\n",
    "sent_score.plot(ax=ax, kind='bar', color='green')"
   ]
  },
  {
   "cell_type": "code",
   "execution_count": 33,
   "metadata": {
    "colab": {
     "base_uri": "https://localhost:8080/",
     "height": 1000
    },
    "colab_type": "code",
    "id": "O3D1YyLIY2ne",
    "outputId": "88ccb152-d19c-47a7-b314-529b20f1e008"
   },
   "outputs": [
    {
     "name": "stdout",
     "output_type": "stream",
     "text": [
      "thank florida kag\n",
      "Sentiment(classification='pos', p_pos=0.6584385763490237, p_neg=0.3415614236509764)\n",
      "omb official ukraine aid held country giving\n",
      "Sentiment(classification='pos', p_pos=0.7998019972487915, p_neg=0.20019800275121033)\n",
      "\n",
      "Sentiment(classification='pos', p_pos=0.5, p_neg=0.5)\n",
      "live president pardon national thanksgiving turkey\n",
      "Sentiment(classification='neg', p_pos=0.17227116894344635, p_neg=0.8277288310565523)\n",
      "love mike pompeo rick perry mick mulvaney many others testify phony impeachment hoax\n",
      "Sentiment(classification='pos', p_pos=0.79568454874015, p_neg=0.20431545125985112)\n",
      "lawyer already stated nothing wrong john bolton patriot may know held back\n",
      "Sentiment(classification='pos', p_pos=0.8075451509781758, p_neg=0.19245484902182447)\n",
      "c wolf fake news medium reading far much people forced court testify c\n",
      "Sentiment(classification='pos', p_pos=0.967996211965142, p_neg=0.03200378803485851)\n",
      "president sign woman suffrage centennial commemorative coin act direct u treasur\n",
      "Sentiment(classification='pos', p_pos=0.7343019737538883, p_neg=0.2656980262461101)\n",
      "adam schiff challenger jennifer barbosa attack chasing impeachment allegedly ignoring homeless people ca\n",
      "Sentiment(classification='neg', p_pos=0.17863787060052086, p_neg=0.82136212939948)\n",
      "tide turning democrat impeachment\n",
      "Sentiment(classification='pos', p_pos=0.7786885245901642, p_neg=0.2213114754098365)\n",
      "poll independent flip impeachment opposed first two week public hearing\n",
      "Sentiment(classification='neg', p_pos=0.44510038800227797, p_neg=0.5548996119977204)\n",
      "military rip old amp badly broken border wall important location amp replaces brand\n",
      "Sentiment(classification='neg', p_pos=0.35293988090793527, p_neg=0.647060119092063)\n",
      "always protect great warfighters got back\n",
      "Sentiment(classification='pos', p_pos=0.5699406997953445, p_neg=0.43005930020465616)\n",
      "great job heather\n",
      "Sentiment(classification='pos', p_pos=0.6912263469757496, p_neg=0.30877365302425047)\n",
      "democrat compete economy university maryland business professor weighs\n",
      "Sentiment(classification='pos', p_pos=0.649246551413217, p_neg=0.3507534485867835)\n",
      "sham continues remember supposedly impeachment hearing personnel hearing policy debat\n",
      "Sentiment(classification='pos', p_pos=0.7154684567717717, p_neg=0.2845315432282297)\n",
      "poll show dems losing interest impeachment inquiry across board poll actually devastating\n",
      "Sentiment(classification='pos', p_pos=0.6472098162689514, p_neg=0.35279018373104687)\n",
      "pelosi said impeachment must compelling overwhelming bipartisan week sham hearing\n",
      "Sentiment(classification='pos', p_pos=0.6934541888032527, p_neg=0.3065458111967453)\n",
      "democrat charge forward impeachment despite certainty defeat let forget phony\n",
      "Sentiment(classification='neg', p_pos=0.4428993875623422, p_neg=0.5571006124376577)\n",
      "president host keep america great rally tomorrow pm est sunrise florida\n",
      "Sentiment(classification='pos', p_pos=0.8750056167562597, p_neg=0.12499438324373978)\n",
      "president met prime minister earlier today measure strengthen strategic par\n",
      "Sentiment(classification='pos', p_pos=0.9467072202084257, p_neg=0.053292779791577066)\n",
      "great job donald trump sign animal cruelty bill targeting heinous sadistic\n",
      "Sentiment(classification='pos', p_pos=0.8045794846758861, p_neg=0.1954205153241161)\n",
      "dow nasdaq amp p close record high\n",
      "Sentiment(classification='pos', p_pos=0.5733218194186359, p_neg=0.42667818058136425)\n",
      "\n",
      "Sentiment(classification='pos', p_pos=0.5, p_neg=0.5)\n",
      "democrat committed impeaching trump reason backfire big victory republican\n",
      "Sentiment(classification='neg', p_pos=0.13661624621524468, p_neg=0.863383753784754)\n",
      "president trump signed woman suffrage centennial commemorative coin act issue coin commemorat\n",
      "Sentiment(classification='pos', p_pos=0.5057411367717716, p_neg=0.49425886322822943)\n",
      "president signed preventing animal cruelty torture pact act law make feder\n",
      "Sentiment(classification='pos', p_pos=0.6418417766402972, p_neg=0.35815822335970104)\n",
      "dow nasdaq amp p close record high\n",
      "Sentiment(classification='pos', p_pos=0.5733218194186359, p_neg=0.42667818058136425)\n",
      "congratulation national champion\n",
      "Sentiment(classification='pos', p_pos=0.6146523178807941, p_neg=0.3853476821192056)\n",
      "\n",
      "Sentiment(classification='pos', p_pos=0.5, p_neg=0.5)\n",
      "another new stock market record enjoy\n",
      "Sentiment(classification='pos', p_pos=0.6142557481588338, p_neg=0.38574425184116623)\n",
      "democrat getting hit slammed impeachment getting le le popular day\n",
      "Sentiment(classification='neg', p_pos=0.2958706734782681, p_neg=0.7041293265217295)\n",
      "support impeachment dropping like rock poll dems get work\n",
      "Sentiment(classification='neg', p_pos=0.28290772925987623, p_neg=0.7170922707401245)\n",
      "president trump facing process unprecedented unfairness sam dewey\n",
      "Sentiment(classification='pos', p_pos=0.9271075741559056, p_neg=0.07289242584409393)\n",
      "agnes great boy ronald looking proud\n",
      "Sentiment(classification='pos', p_pos=0.917768750505669, p_neg=0.08223124949433193)\n",
      "trump baby win going help million black voter\n",
      "Sentiment(classification='neg', p_pos=0.45340423324215906, p_neg=0.5465957667578415)\n",
      "president welcomed outstanding student athlete coach nation white house fo\n",
      "Sentiment(classification='pos', p_pos=0.9871659272876796, p_neg=0.012834072712318621)\n",
      "unconventional bad thing heck voted fantastic read\n",
      "Sentiment(classification='neg', p_pos=0.09194456410176899, p_neg=0.9080554358982332)\n",
      "honor earned including trident pin admiral ambassador norway ken braithwaite\n",
      "Sentiment(classification='pos', p_pos=0.7354330312804346, p_neg=0.2645669687195653)\n",
      "contracting procedure addressed satisfaction therefore secretary navy richard spencer\n",
      "Sentiment(classification='pos', p_pos=0.8889743422249405, p_neg=0.11102565777506009)\n",
      "pleased way navy seal eddie gallagher trial handled navy treated\n",
      "Sentiment(classification='pos', p_pos=0.9513831892157669, p_neg=0.048616810784232994)\n",
      "democrat going back district thanksgiving getting absolutely hammered constituent\n",
      "Sentiment(classification='pos', p_pos=0.9466263067237296, p_neg=0.05337369327627031)\n",
      "whole russia thing hoax ukraine thing hoax democrat joke disast\n",
      "Sentiment(classification='pos', p_pos=0.99628805946244, p_neg=0.0037119405375598976)\n",
      "impeachment scam driving republican poll number thank shifty\n",
      "Sentiment(classification='neg', p_pos=0.2563067083381949, p_neg=0.7436932916618043)\n",
      "first phase impeachment go well democrat needed time support inquiry impe\n",
      "Sentiment(classification='pos', p_pos=0.5160719944619008, p_neg=0.48392800553809845)\n",
      "massive margin independent say impeachment issue important politician\n",
      "Sentiment(classification='neg', p_pos=0.2747609399781499, p_neg=0.7252390600218502)\n",
      "great well reseached book justice k ruth marcus book badly written amp reseached disaster\n",
      "Sentiment(classification='pos', p_pos=0.6593846052731934, p_neg=0.34061539472680513)\n",
      "yet one thing remains house democrat wanted impeach president since day one hearing ha\n",
      "Sentiment(classification='pos', p_pos=0.8961389065504574, p_neg=0.10386109344954192)\n",
      "said president leaned lowering drug cost american pe\n",
      "Sentiment(classification='pos', p_pos=0.6763329844444819, p_neg=0.32366701555551847)\n",
      "witch hunt\n",
      "Sentiment(classification='neg', p_pos=0.36245353159851273, p_neg=0.6375464684014869)\n",
      "nunes sue cnn daily beast demonstrably false story sought dirt biden\n",
      "Sentiment(classification='pos', p_pos=0.9867809034421786, p_neg=0.013219096557820487)\n",
      "adam schiff take rorschach test gutfeld\n",
      "Sentiment(classification='pos', p_pos=0.5131916494252058, p_neg=0.4868083505747947)\n",
      "adam schiff try stand comedy gutfeld\n",
      "Sentiment(classification='pos', p_pos=0.7813820406694262, p_neg=0.21861795933057382)\n",
      "watch greg latest monologue gutfeld\n",
      "Sentiment(classification='neg', p_pos=0.4986639167862266, p_neg=0.5013360832137737)\n",
      "preview tonight life liberty levin fox news pm eastern\n",
      "Sentiment(classification='pos', p_pos=0.8612043891361691, p_neg=0.1387956108638293)\n",
      "michael bloomberg accomplishment banning big gulp soda worst nyc mayor bill de blasio trashing\n",
      "Sentiment(classification='neg', p_pos=0.23256997338951835, p_neg=0.7674300266104824)\n",
      "wow thanks everyone supporting help meadow save day almost top sale ranking barnes amp\n",
      "Sentiment(classification='pos', p_pos=0.5063535088134979, p_neg=0.49364649118650356)\n",
      "california supreme court piece government state common sense left president\n",
      "Sentiment(classification='pos', p_pos=0.9928948501639304, p_neg=0.007105149836068439)\n",
      "oh dear hunter biden linked company received special federal loan joe biden vice president\n",
      "Sentiment(classification='pos', p_pos=0.809327731397031, p_neg=0.19067226860297073)\n",
      "whole ukraine thing blow dems face big time\n",
      "Sentiment(classification='pos', p_pos=0.5365236100279148, p_neg=0.46347638997208407)\n",
      "huge congrats new mom amp hubby jeremy welcome baby hartley family glad w\n",
      "Sentiment(classification='pos', p_pos=0.7784576049641778, p_neg=0.22154239503582446)\n",
      "simply mind boggling heading year trump presidency time tremendous american econom\n",
      "Sentiment(classification='pos', p_pos=0.9792159249951483, p_neg=0.020784075004850733)\n",
      "russia invaded eastern ukraine picked crimea shot airliner sky killing hundred civilian whil\n",
      "Sentiment(classification='pos', p_pos=0.9988772870902012, p_neg=0.0011227129097965702)\n",
      "perspective x wonder\n",
      "Sentiment(classification='pos', p_pos=0.6514485256078635, p_neg=0.348551474392137)\n",
      "prepared bureaucrat fbi claim sheer incompetence defense whatever come horowitz probe\n",
      "Sentiment(classification='neg', p_pos=0.16377680471970885, p_neg=0.8362231952802899)\n",
      "people need stop making democrat look like bunch crazy left wing extremist quoting sharing offi\n",
      "Sentiment(classification='pos', p_pos=0.5139135635815754, p_neg=0.486086436418426)\n",
      "npr review new glenn simpson book say steele dossier found way news organization obscure happened\n",
      "Sentiment(classification='pos', p_pos=0.62268207518821, p_neg=0.37731792481179177)\n",
      "forrest gump mama say stupid people\n",
      "Sentiment(classification='pos', p_pos=0.8946972924212245, p_neg=0.10530270757877427)\n",
      "massive margin independent say impeachment issue important politician\n",
      "Sentiment(classification='neg', p_pos=0.2747609399781499, p_neg=0.7252390600218502)\n",
      "lie fact sent kid private school read child went private schoo\n",
      "Sentiment(classification='pos', p_pos=0.8204721100988644, p_neg=0.17952788990113464)\n",
      "nothing wrong read transcript\n",
      "Sentiment(classification='neg', p_pos=0.3207473312678121, p_neg=0.6792526687321879)\n",
      "correct\n",
      "Sentiment(classification='pos', p_pos=0.6025641025641029, p_neg=0.3974358974358975)\n",
      "great brother join u convocation week\n",
      "Sentiment(classification='pos', p_pos=0.6171109025160757, p_neg=0.38288909748392397)\n",
      "agnes great boy ronald looking proud\n",
      "Sentiment(classification='pos', p_pos=0.917768750505669, p_neg=0.08223124949433193)\n",
      "new rnc ad us democrat word impeachment\n",
      "Sentiment(classification='neg', p_pos=0.3846144722134178, p_neg=0.6153855277865815)\n",
      "exclusive elise stefanik reflects two week whirlwind\n",
      "Sentiment(classification='pos', p_pos=0.8991568208564288, p_neg=0.10084317914357117)\n",
      "whole thing tearing country apart\n",
      "Sentiment(classification='neg', p_pos=0.166593251443953, p_neg=0.8334067485560461)\n",
      "unspoken truth impeachment exposed trump\n",
      "Sentiment(classification='neg', p_pos=0.48258345428156646, p_neg=0.5174165457184328)\n",
      "looking forward adam schiff try act angry show\n",
      "Sentiment(classification='pos', p_pos=0.7609143907966498, p_neg=0.23908560920335162)\n",
      "real story behind nothing democrat\n",
      "Sentiment(classification='pos', p_pos=0.6313623177795947, p_neg=0.36863768222040527)\n",
      "tremendous week say want full senate trial following dems disastrous impeachment hearing\n",
      "Sentiment(classification='pos', p_pos=0.880588121951482, p_neg=0.11941187804851902)\n",
      "case closed say radical dems case evidence impeach maga americafirst\n",
      "Sentiment(classification='pos', p_pos=0.7203163701783767, p_neg=0.27968362982162376)\n",
      "bad g offered pick entire cost would saved least fo\n",
      "Sentiment(classification='neg', p_pos=0.06367272287109502, p_neg=0.9363272771289047)\n",
      "poll turned strongly impeachment especially swing state thank\n",
      "Sentiment(classification='pos', p_pos=0.701865093385466, p_neg=0.2981349066145336)\n",
      "nancy pelosi adam schiff aoc rest democrat getting important legislation done hence\n",
      "Sentiment(classification='pos', p_pos=0.9653258328156195, p_neg=0.034674167184379746)\n",
      "navy seal eddie gallagher morning fear end well everyone\n",
      "Sentiment(classification='pos', p_pos=0.9155709828094095, p_neg=0.0844290171905891)\n",
      "pushed hard apple build usa\n",
      "Sentiment(classification='pos', p_pos=0.612675430804761, p_neg=0.38732456919523917)\n",
      "\n",
      "Sentiment(classification='pos', p_pos=0.5, p_neg=0.5)\n",
      "\n",
      "Sentiment(classification='pos', p_pos=0.5, p_neg=0.5)\n",
      "\n",
      "Sentiment(classification='pos', p_pos=0.5, p_neg=0.5)\n",
      "approval rate republican party record thank\n",
      "Sentiment(classification='neg', p_pos=0.23814780869855073, p_neg=0.7618521913014492)\n",
      "thank kevin nice word\n",
      "Sentiment(classification='pos', p_pos=0.5110619720067855, p_neg=0.4889380279932142)\n",
      "sondland said trump told none move needle anyone dems swing district hea\n",
      "Sentiment(classification='pos', p_pos=0.6774534071170869, p_neg=0.3225465928829121)\n",
      "direct evidence president trump anything impeachable one heard order quid pro quo\n",
      "Sentiment(classification='pos', p_pos=0.925226138632943, p_neg=0.07477386136705863)\n",
      "new york post editorial worse pointless hour televised testimony plainly failed anno\n",
      "Sentiment(classification='pos', p_pos=0.8648633851405141, p_neg=0.1351366148594872)\n",
      "daniel cameron g race great commonwealth kentucky young talented poli\n",
      "Sentiment(classification='pos', p_pos=0.9602859625136922, p_neg=0.03971403748630851)\n",
      "brennan whistleblower also worked susan rice understatement say w\n",
      "Sentiment(classification='pos', p_pos=0.7715145702630158, p_neg=0.22848542973698327)\n",
      "democrat dirty trick started whole thing whistleblower guy took case schiff\n",
      "Sentiment(classification='pos', p_pos=0.8992869153906438, p_neg=0.1007130846093547)\n",
      "joe concha hill emerson college poll impeachment among independent oppose support see wh\n",
      "Sentiment(classification='pos', p_pos=0.6608490443925129, p_neg=0.3391509556074873)\n",
      "adam schiff compelled testify democrat decide despite fact presidential convers\n",
      "Sentiment(classification='pos', p_pos=0.9873324865889525, p_neg=0.012667513411047032)\n",
      "support impeachment think democrat come new game plan\n",
      "Sentiment(classification='pos', p_pos=0.5379438754561349, p_neg=0.46205612454386363)\n",
      "schiff say republican use phrase russia hoax denying russian interference untrue obvious fact rep\n",
      "Sentiment(classification='pos', p_pos=0.9998582046635479, p_neg=0.00014179533644842205)\n",
      "potentially huge stay tuned horowitz reportedly find evidence fbi lawyer falsified fisa doc\n",
      "Sentiment(classification='neg', p_pos=0.4115645898381011, p_neg=0.5884354101618983)\n",
      "jim jordan say fact trump side week public impeachment hearing\n",
      "Sentiment(classification='neg', p_pos=0.36571278300909005, p_neg=0.6342872169909114)\n",
      "wow impeachment way water independent oppose support american people see thi\n",
      "Sentiment(classification='pos', p_pos=0.8735564627865197, p_neg=0.12644353721347917)\n",
      "\n",
      "Sentiment(classification='pos', p_pos=0.5, p_neg=0.5)\n",
      "house republican showing real leadership prepared enact bipartisan solution drug price\n",
      "Sentiment(classification='pos', p_pos=0.8845837919442259, p_neg=0.11541620805577175)\n",
      "pelosi nothing democrat drug pricing bill trick fewer cure fewer treatment time\n",
      "Sentiment(classification='pos', p_pos=0.7973862656700557, p_neg=0.20261373432994226)\n",
      "first prescription drug price decrease year american still pay far much drug\n",
      "Sentiment(classification='neg', p_pos=0.2836642656081618, p_neg=0.716335734391839)\n",
      "soon release plan let florida state import prescription drug much ch\n",
      "Sentiment(classification='pos', p_pos=0.709647609457489, p_neg=0.29035239054251194)\n",
      "thank mitch mcconnell kevin mccarthy great leadership neve\n",
      "Sentiment(classification='neg', p_pos=0.2689168906741886, p_neg=0.7310831093258107)\n",
      "schiff fact witness\n",
      "Sentiment(classification='pos', p_pos=0.8783213833825386, p_neg=0.12167861661746104)\n",
      "interviewed morning know much talk w\n",
      "Sentiment(classification='neg', p_pos=0.16436949971194434, p_neg=0.8356305002880554)\n",
      "former fbi employee accused altering fisa document hello go\n",
      "Sentiment(classification='pos', p_pos=0.6657783631677862, p_neg=0.33422163683221207)\n",
      "raised k minute thank help u get k tonight go join figh\n",
      "Sentiment(classification='pos', p_pos=0.6400744449759946, p_neg=0.3599255550240055)\n",
      "bottom line adam schiff failed bring evidence impeaching watch tonight\n",
      "Sentiment(classification='pos', p_pos=0.6099721061404173, p_neg=0.3900278938595839)\n",
      "today heard amb sondland told quid pro quo want nothing evidence im\n",
      "Sentiment(classification='pos', p_pos=0.9553138047990056, p_neg=0.044686195200992554)\n",
      "reminder democrat cry crocodile tear brief halt aid ukraine president went congr\n",
      "Sentiment(classification='pos', p_pos=0.9913997303690527, p_neg=0.008600269630942988)\n",
      "public poll matching seen internals approval highest since\n",
      "Sentiment(classification='pos', p_pos=0.7967645260178199, p_neg=0.20323547398218214)\n",
      "hoax disgrace embarrassment country nancy pelosi done terrible j\n",
      "Sentiment(classification='pos', p_pos=0.7223910863023857, p_neg=0.27760891369761354)\n",
      "hoax done tried failed one witness testify president\n",
      "Sentiment(classification='pos', p_pos=0.9793556605979288, p_neg=0.02064433940207346)\n",
      "collusionhoax denying russia interfered w election democrat amp house medium\n",
      "Sentiment(classification='pos', p_pos=0.9984940567461893, p_neg=0.0015059432538092393)\n",
      "adam schiff running democrat sham impeachment time got say bull schiff get cotton\n",
      "Sentiment(classification='pos', p_pos=0.6798452354755792, p_neg=0.3201547645244256)\n",
      "president asked african american lose imagine th\n",
      "Sentiment(classification='pos', p_pos=0.6906490986054709, p_neg=0.30935090139452986)\n",
      "house democrat trying invalidate american people since day let take awa\n",
      "Sentiment(classification='pos', p_pos=0.5485240335917984, p_neg=0.45147596640819976)\n",
      "begin cnn exclusive confirmed big trouble fbi allegation according excel\n",
      "Sentiment(classification='pos', p_pos=0.821649304635045, p_neg=0.1783506953649537)\n",
      "bring team trump oregon arizona rally supporter arizona ready stay red\n",
      "Sentiment(classification='pos', p_pos=0.794272577511896, p_neg=0.20572742248810205)\n",
      "\n",
      "Sentiment(classification='pos', p_pos=0.5, p_neg=0.5)\n",
      "thank great job\n",
      "Sentiment(classification='pos', p_pos=0.6866421952149471, p_neg=0.31335780478505254)\n",
      "\n",
      "Sentiment(classification='pos', p_pos=0.5, p_neg=0.5)\n",
      "mark levin impeachment hysteria\n",
      "Sentiment(classification='neg', p_pos=0.45427901524032704, p_neg=0.5457209847596725)\n",
      "join exclusive tomorrow w et find\n",
      "Sentiment(classification='pos', p_pos=0.7472292136985726, p_neg=0.25277078630142613)\n",
      "schiff charade\n",
      "Sentiment(classification='pos', p_pos=0.921052631578948, p_neg=0.07894736842105254)\n",
      "schiff fact witness\n",
      "Sentiment(classification='pos', p_pos=0.8783213833825386, p_neg=0.12167861661746104)\n",
      "every time trump administration meet speaker pelosi halfway usmca try move goalpost speak\n",
      "Sentiment(classification='neg', p_pos=0.06142234840497471, p_neg=0.938577651595023)\n",
      "called democrat lie republican support holding russia accountable election\n",
      "Sentiment(classification='pos', p_pos=0.990431927774953, p_neg=0.009568072225045542)\n",
      "american people expect fairness impeachmentcircus anything fair thankfully ci\n",
      "Sentiment(classification='neg', p_pos=0.24907014669434244, p_neg=0.7509298533056564)\n",
      "conversation ambassador taylor remembered remember mr holmes briefing call\n",
      "Sentiment(classification='pos', p_pos=0.5739544264729839, p_neg=0.42604557352701394)\n",
      "trying overturn million vote take sitting president better come something mo\n",
      "Sentiment(classification='neg', p_pos=0.37918690085879647, p_neg=0.620813099141204)\n",
      "democrat brought numerous witness testify matter completely unrelated heart impeachm\n",
      "Sentiment(classification='pos', p_pos=0.920440174945608, p_neg=0.07955982505439337)\n",
      "enlightening exchange btw holmes amp holmes could hear ukraine portion call btw tr\n",
      "Sentiment(classification='neg', p_pos=0.4510803348359847, p_neg=0.5489196651640171)\n",
      "notable theme hearing career official seem act though job decide america foreign\n",
      "Sentiment(classification='pos', p_pos=0.7971445488873725, p_neg=0.20285545111262582)\n",
      "minute opening statement guy overheard phone call couple minute democrat la\n",
      "Sentiment(classification='neg', p_pos=0.4525462001369049, p_neg=0.5474537998630956)\n",
      "want zero transparency thinking world find death tragedy iranian regime causing\n",
      "Sentiment(classification='pos', p_pos=0.9288834652023469, p_neg=0.0711165347976535)\n",
      "iran become unstable regime shut entire internet system great iranian pe\n",
      "Sentiment(classification='pos', p_pos=0.9918893252790352, p_neg=0.00811067472096394)\n",
      "president trump said ukraine president right thing quid pro quo cha\n",
      "Sentiment(classification='pos', p_pos=0.9704194780716175, p_neg=0.029580521928384083)\n",
      "ken starr former independent counsel reach level treason bribery high crime misd\n",
      "Sentiment(classification='pos', p_pos=0.8339626640521344, p_neg=0.16603733594786382)\n",
      "watching people making phone call entire life hearing great never bee\n",
      "Sentiment(classification='pos', p_pos=0.8668731782199345, p_neg=0.13312682178006324)\n",
      "read two transcript ukrainian call\n",
      "Sentiment(classification='neg', p_pos=0.4895151883043713, p_neg=0.5104848116956286)\n",
      "republican party great day yesterday respect phony impeachment hoax amp yet got\n",
      "Sentiment(classification='pos', p_pos=0.8539765808050127, p_neg=0.14602341919498632)\n",
      "navy taking away warfighter navy seal eddie gallagher trident pin case handled\n",
      "Sentiment(classification='pos', p_pos=0.9023654193216806, p_neg=0.0976345806783211)\n",
      "nothing give schiff jurisdiction impeachment\n",
      "Sentiment(classification='pos', p_pos=0.6673286202970259, p_neg=0.33267137970297656)\n",
      "new house resolution give adam schiff dishonest man politics power unilaterally release\n",
      "Sentiment(classification='pos', p_pos=0.9504672106742017, p_neg=0.04953278932579967)\n",
      "winning big soon turf\n",
      "Sentiment(classification='pos', p_pos=0.5450686344661407, p_neg=0.45493136553385843)\n",
      "corrupt politician adam schiff lie growing day keep fighting tough republican dealing wit\n",
      "Sentiment(classification='pos', p_pos=0.9046186350382638, p_neg=0.09538136496173252)\n",
      "never wildest dream thought name would way associated ugly word impeachment ca\n",
      "Sentiment(classification='neg', p_pos=0.03711612966152018, p_neg=0.9628838703384781)\n",
      "freed taliban hostage arrive germany got back\n",
      "Sentiment(classification='pos', p_pos=0.9629911559339536, p_neg=0.03700884406604642)\n",
      "president legal clean release financial statement\n",
      "Sentiment(classification='pos', p_pos=0.9095547828439611, p_neg=0.09044521715603761)\n",
      "bob mueller spending two year million dollar went financials amp tax found\n",
      "Sentiment(classification='neg', p_pos=0.34754779966244514, p_neg=0.6524522003375566)\n",
      "republican party great day yesterday respect phony impeachment hoax amp yet g\n",
      "Sentiment(classification='pos', p_pos=0.8951914879465762, p_neg=0.10480851205342495)\n",
      "visit yesterday austin texas startup new mac pro amp discussion new one bill\n",
      "Sentiment(classification='pos', p_pos=0.9763723471139054, p_neg=0.023627652886092646)\n",
      "amp waste airtime democrat rep eric swalwell recently left presidential pr\n",
      "Sentiment(classification='pos', p_pos=0.6611180366646584, p_neg=0.3388819633353394)\n",
      "\n",
      "Sentiment(classification='pos', p_pos=0.5, p_neg=0.5)\n",
      "poll trump lead top democrat wisconsin\n",
      "Sentiment(classification='pos', p_pos=0.5352634018650808, p_neg=0.4647365981349177)\n",
      "impeachment witch hunt ambassador sondland asks u president want ukraine ke\n",
      "Sentiment(classification='neg', p_pos=0.3741117546608212, p_neg=0.6258882453391793)\n",
      "want nothing want nothing want quid pro quo tell president zelensky right thing later\n",
      "Sentiment(classification='pos', p_pos=0.9442424058714105, p_neg=0.055757594128587086)\n",
      "four gordon sondland lawyer democrat donor despite big win today republican\n",
      "Sentiment(classification='pos', p_pos=0.6620062567748758, p_neg=0.3379937432251232)\n",
      "watch big news\n",
      "Sentiment(classification='neg', p_pos=0.44239380426049213, p_neg=0.5576061957395079)\n",
      "\n",
      "Sentiment(classification='pos', p_pos=0.5, p_neg=0.5)\n",
      "prizefight stop\n",
      "Sentiment(classification='neg', p_pos=0.4849137931034482, p_neg=0.5150862068965516)\n",
      "today opened major apple manufacturing plant texas bring high paying job back america today n\n",
      "Sentiment(classification='pos', p_pos=0.7023629494897198, p_neg=0.2976370505102785)\n",
      "every question asks democrat sham impeachment get weaker weaker q testified preside\n",
      "Sentiment(classification='pos', p_pos=0.7603465449105129, p_neg=0.23965345508948666)\n",
      "president obama gave ukraine blanket president trump gave ukraine missile\n",
      "Sentiment(classification='pos', p_pos=0.9163488871940662, p_neg=0.08365111280593494)\n",
      "president trump want nothing want quid pro quo want zelensky ran\n",
      "Sentiment(classification='pos', p_pos=0.8387548441070471, p_neg=0.16124515589295013)\n",
      "wow mr sondland let clear one planet donald trump rudy guiliani mick mulvan\n",
      "Sentiment(classification='neg', p_pos=0.06317351155497063, p_neg=0.9368264884450305)\n",
      "heard call good call impeachmenthearing\n",
      "Sentiment(classification='pos', p_pos=0.5536556263688477, p_neg=0.44634437363115204)\n",
      "call like ukrainian got call president ukrainian got meeting presi\n",
      "Sentiment(classification='pos', p_pos=0.5896098111739341, p_neg=0.4103901888260656)\n",
      "story sondland hearing courtesy q one else planet told donal\n",
      "Sentiment(classification='pos', p_pos=0.7660352835276052, p_neg=0.23396471647239417)\n",
      "want nothing\n",
      "Sentiment(classification='neg', p_pos=0.3919801946849001, p_neg=0.6080198053150999)\n",
      "want nothing want nothing want quid pro quo tell president zelensky right thing later\n",
      "Sentiment(classification='pos', p_pos=0.9442424058714105, p_neg=0.055757594128587086)\n",
      "impeachment witch hunt ambassador sondland asks u president want ukraine\n",
      "Sentiment(classification='neg', p_pos=0.3741117546608212, p_neg=0.6258882453391793)\n",
      "president delivers statement sham impeachment process\n",
      "Sentiment(classification='pos', p_pos=0.8132108878412975, p_neg=0.18678911215870014)\n",
      "join family kevin king amp tim week celebrating release taliban captivity thanks president\n",
      "Sentiment(classification='pos', p_pos=0.9701156683686093, p_neg=0.029884331631391262)\n",
      "\n",
      "Sentiment(classification='pos', p_pos=0.5, p_neg=0.5)\n",
      "sondland agrees president never told precondition anything\n",
      "Sentiment(classification='pos', p_pos=0.7596106569848083, p_neg=0.24038934301519232)\n",
      "sondland testifies asked want ukraine trump reportedly responded want nothing\n",
      "Sentiment(classification='pos', p_pos=0.723253429889652, p_neg=0.2767465701103472)\n",
      "read transcript\n",
      "Sentiment(classification='neg', p_pos=0.46604938271604957, p_neg=0.5339506172839505)\n",
      "case closed ambassador sondland testified oath never heard president say condition\n",
      "Sentiment(classification='pos', p_pos=0.8348789298372042, p_neg=0.16512107016279398)\n",
      "breaking ambassador sondland recall president trump ever talking security assistance ever\n",
      "Sentiment(classification='neg', p_pos=0.37112662983583067, p_neg=0.6288733701641708)\n",
      "bombshell hearing amounting another witness never heard anything president reach\n",
      "Sentiment(classification='pos', p_pos=0.6332344675701834, p_neg=0.36676553242981846)\n",
      "q ever tell personally pre condition anything sondland q pre condit\n",
      "Sentiment(classification='pos', p_pos=0.6575366724629108, p_neg=0.34246332753708847)\n",
      "nancy pelosi go least productive speaker house history dominated aoc plus\n",
      "Sentiment(classification='pos', p_pos=0.7555509650849862, p_neg=0.2444490349150128)\n",
      "white house confidence grows hearing wear attempted takedown republica\n",
      "Sentiment(classification='pos', p_pos=0.6000900041098287, p_neg=0.39990999589017234)\n",
      "three year hoax continues\n",
      "Sentiment(classification='pos', p_pos=0.952562594006483, p_neg=0.04743740599351631)\n",
      "true great job\n",
      "Sentiment(classification='pos', p_pos=0.7964672136987412, p_neg=0.20353278630125937)\n",
      "read transcript\n",
      "Sentiment(classification='neg', p_pos=0.46604938271604957, p_neg=0.5339506172839505)\n",
      "rep quid pro quo morrison correct bribery correct extortion correct ste\n",
      "Sentiment(classification='pos', p_pos=0.9290306941941561, p_neg=0.07096930580584485)\n",
      "thank tennessee\n",
      "Sentiment(classification='pos', p_pos=0.840909090909091, p_neg=0.15909090909090895)\n",
      "congressman van drew nj spent million dollar opinion ton money ton time ton h\n",
      "Sentiment(classification='pos', p_pos=0.7593035913692031, p_neg=0.24069640863079844)\n",
      "shatters myth created whistleblower violation law executive order ment\n",
      "Sentiment(classification='neg', p_pos=0.19867594306781072, p_neg=0.8013240569321912)\n"
     ]
    }
   ],
   "source": [
    "from textblob.sentiments import NaiveBayesAnalyzer\n",
    "for tweet in df['tidy_tweet']:\n",
    "    print(tweet)\n",
    "    analysis = TextBlob(tweet,analyzer=NaiveBayesAnalyzer())\n",
    "    print(analysis.sentiment)  "
   ]
  }
 ],
 "metadata": {
  "accelerator": "TPU",
  "colab": {
   "name": "1 Twitter Sentiment Analysis.ipynb",
   "provenance": []
  },
  "kernelspec": {
   "display_name": "Python 3",
   "language": "python",
   "name": "python3"
  },
  "language_info": {
   "codemirror_mode": {
    "name": "ipython",
    "version": 3
   },
   "file_extension": ".py",
   "mimetype": "text/x-python",
   "name": "python",
   "nbconvert_exporter": "python",
   "pygments_lexer": "ipython3",
   "version": "3.7.6"
  }
 },
 "nbformat": 4,
 "nbformat_minor": 1
}
